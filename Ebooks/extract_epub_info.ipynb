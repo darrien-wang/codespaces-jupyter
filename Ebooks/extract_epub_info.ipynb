{
 "cells": [
  {
   "cell_type": "code",
   "execution_count": 1,
   "metadata": {},
   "outputs": [
    {
     "name": "stdout",
     "output_type": "stream",
     "text": [
      "Collecting ebooklib\n",
      "  Downloading EbookLib-0.18.tar.gz (115 kB)\n",
      "\u001b[2K     \u001b[90m━━━━━━━━━━━━━━━━━━━━━━━━━━━━━━━━━━━━━━━\u001b[0m \u001b[32m115.5/115.5 kB\u001b[0m \u001b[31m6.8 MB/s\u001b[0m eta \u001b[36m0:00:00\u001b[0m\n",
      "\u001b[?25h  Preparing metadata (setup.py) ... \u001b[?25ldone\n",
      "\u001b[?25hRequirement already satisfied: lxml in /usr/local/python/3.10.4/lib/python3.10/site-packages (from ebooklib) (4.9.2)\n",
      "Requirement already satisfied: six in /home/codespace/.local/lib/python3.10/site-packages (from ebooklib) (1.16.0)\n",
      "Building wheels for collected packages: ebooklib\n",
      "  Building wheel for ebooklib (setup.py) ... \u001b[?25ldone\n",
      "\u001b[?25h  Created wheel for ebooklib: filename=EbookLib-0.18-py3-none-any.whl size=38777 sha256=15e0834f27cf647e6cf5e01cc8acca8815a85b9b7243b1604123752914532c6b\n",
      "  Stored in directory: /home/codespace/.cache/pip/wheels/0f/38/cc/a3728bb72a315d9d8766fb71d362136372066fc25ad838f8fa\n",
      "Successfully built ebooklib\n",
      "Installing collected packages: ebooklib\n",
      "Successfully installed ebooklib-0.18\n",
      "\n",
      "\u001b[1m[\u001b[0m\u001b[34;49mnotice\u001b[0m\u001b[1;39;49m]\u001b[0m\u001b[39;49m A new release of pip is available: \u001b[0m\u001b[31;49m23.1\u001b[0m\u001b[39;49m -> \u001b[0m\u001b[32;49m23.1.2\u001b[0m\n",
      "\u001b[1m[\u001b[0m\u001b[34;49mnotice\u001b[0m\u001b[1;39;49m]\u001b[0m\u001b[39;49m To update, run: \u001b[0m\u001b[32;49mpip install --upgrade pip\u001b[0m\n",
      "Note: you may need to restart the kernel to use updated packages.\n"
     ]
    }
   ],
   "source": [
    "pip install ebooklib"
   ]
  },
  {
   "cell_type": "code",
   "execution_count": 2,
   "metadata": {},
   "outputs": [
    {
     "name": "stderr",
     "output_type": "stream",
     "text": [
      "/home/codespace/.python/current/lib/python3.10/site-packages/ebooklib/epub.py:1395: UserWarning: In the future version we will turn default option ignore_ncx to True.\n",
      "  warnings.warn('In the future version we will turn default option ignore_ncx to True.')\n"
     ]
    },
    {
     "ename": "AttributeError",
     "evalue": "module 'ebooklib.epub' has no attribute 'ITEM_DOCUMENT'",
     "output_type": "error",
     "traceback": [
      "\u001b[0;31m---------------------------------------------------------------------------\u001b[0m",
      "\u001b[0;31mAttributeError\u001b[0m                            Traceback (most recent call last)",
      "Cell \u001b[0;32mIn[2], line 25\u001b[0m\n\u001b[1;32m     22\u001b[0m         \u001b[39mprint\u001b[39m(\u001b[39m\"\u001b[39m\u001b[39m\\n\u001b[39;00m\u001b[39m\"\u001b[39m)\n\u001b[1;32m     24\u001b[0m \u001b[39mif\u001b[39;00m \u001b[39m__name__\u001b[39m \u001b[39m==\u001b[39m \u001b[39m\"\u001b[39m\u001b[39m__main__\u001b[39m\u001b[39m\"\u001b[39m:\n\u001b[0;32m---> 25\u001b[0m     main()\n",
      "Cell \u001b[0;32mIn[2], line 17\u001b[0m, in \u001b[0;36mmain\u001b[0;34m()\u001b[0m\n\u001b[1;32m     14\u001b[0m epub_path \u001b[39m=\u001b[39m \u001b[39m'\u001b[39m\u001b[39m./HowToRead.epub\u001b[39m\u001b[39m'\u001b[39m\n\u001b[1;32m     15\u001b[0m book \u001b[39m=\u001b[39m epub\u001b[39m.\u001b[39mread_epub(epub_path)\n\u001b[0;32m---> 17\u001b[0m \u001b[39mfor\u001b[39;00m item \u001b[39min\u001b[39;00m book\u001b[39m.\u001b[39mget_items_of_type(epub\u001b[39m.\u001b[39;49mITEM_DOCUMENT):\n\u001b[1;32m     18\u001b[0m     chapter_title, start_text, end_text \u001b[39m=\u001b[39m extract_chapter_info(item)\n\u001b[1;32m     19\u001b[0m     \u001b[39mprint\u001b[39m(\u001b[39mf\u001b[39m\u001b[39m\"\u001b[39m\u001b[39mChapter title: \u001b[39m\u001b[39m{\u001b[39;00mchapter_title\u001b[39m}\u001b[39;00m\u001b[39m\"\u001b[39m)\n",
      "\u001b[0;31mAttributeError\u001b[0m: module 'ebooklib.epub' has no attribute 'ITEM_DOCUMENT'"
     ]
    }
   ],
   "source": [
    "import re\n",
    "from ebooklib import epub\n",
    "\n",
    "def extract_chapter_info(item):\n",
    "    content = item.content.decode('utf-8')\n",
    "    title = re.search('<title>(.*?)</title>', content)\n",
    "    title_text = title.group(1) if title else \"No title found\"\n",
    "    paragraphs = re.findall('<p>(.*?)</p>', content)\n",
    "    start_text = paragraphs[0] if paragraphs else \"No content found\"\n",
    "    end_text = paragraphs[-1] if paragraphs else \"No content found\"\n",
    "    return title_text, start_text, end_text\n",
    "\n",
    "def main():\n",
    "    epub_path = './HowToRead.epub'\n",
    "    book = epub.read_epub(epub_path)\n",
    "\n",
    "    for item in book.get_items_of_type(epub.ITEM_DOCUMENT):\n",
    "        chapter_title, start_text, end_text = extract_chapter_info(item)\n",
    "        print(f\"Chapter title: {chapter_title}\")\n",
    "        print(f\"Start text: {start_text}\")\n",
    "        print(f\"End text: {end_text}\")\n",
    "        print(\"\\n\")\n",
    "\n",
    "if __name__ == \"__main__\":\n",
    "    main()\n"
   ]
  },
  {
   "cell_type": "code",
   "execution_count": 3,
   "metadata": {},
   "outputs": [
    {
     "ename": "AttributeError",
     "evalue": "module 'ebooklib.epub' has no attribute 'ITEM_NAV'",
     "output_type": "error",
     "traceback": [
      "\u001b[0;31m---------------------------------------------------------------------------\u001b[0m",
      "\u001b[0;31mAttributeError\u001b[0m                            Traceback (most recent call last)",
      "Cell \u001b[0;32mIn[3], line 34\u001b[0m\n\u001b[1;32m     31\u001b[0m             \u001b[39mprint\u001b[39m(\u001b[39m\"\u001b[39m\u001b[39m\\n\u001b[39;00m\u001b[39m\"\u001b[39m)\n\u001b[1;32m     33\u001b[0m \u001b[39mif\u001b[39;00m \u001b[39m__name__\u001b[39m \u001b[39m==\u001b[39m \u001b[39m\"\u001b[39m\u001b[39m__main__\u001b[39m\u001b[39m\"\u001b[39m:\n\u001b[0;32m---> 34\u001b[0m     main()\n",
      "Cell \u001b[0;32mIn[3], line 19\u001b[0m, in \u001b[0;36mmain\u001b[0;34m()\u001b[0m\n\u001b[1;32m     17\u001b[0m \u001b[39m# 获取目录\u001b[39;00m\n\u001b[1;32m     18\u001b[0m nav_map \u001b[39m=\u001b[39m \u001b[39mNone\u001b[39;00m\n\u001b[0;32m---> 19\u001b[0m \u001b[39mfor\u001b[39;00m item \u001b[39min\u001b[39;00m book\u001b[39m.\u001b[39mget_items_of_type(epub\u001b[39m.\u001b[39;49mITEM_NAV):\n\u001b[1;32m     20\u001b[0m     nav_map \u001b[39m=\u001b[39m item\u001b[39m.\u001b[39mget_nav_map()\n\u001b[1;32m     21\u001b[0m     \u001b[39mbreak\u001b[39;00m\n",
      "\u001b[0;31mAttributeError\u001b[0m: module 'ebooklib.epub' has no attribute 'ITEM_NAV'"
     ]
    }
   ],
   "source": [
    "import re\n",
    "from ebooklib import epub\n",
    "\n",
    "def extract_chapter_info(item):\n",
    "    content = item.content.decode('utf-8')\n",
    "    title = re.search('<title>(.*?)</title>', content)\n",
    "    title_text = title.group(1) if title else \"No title found\"\n",
    "    paragraphs = re.findall('<p>(.*?)</p>', content)\n",
    "    start_text = paragraphs[0] if paragraphs else \"No content found\"\n",
    "    end_text = paragraphs[-1] if paragraphs else \"No content found\"\n",
    "    return title_text, start_text, end_text\n",
    "\n",
    "def main():\n",
    "    epub_path = './HowToRead.epub'\n",
    "    book = epub.read_epub(epub_path)\n",
    "\n",
    "    # 获取目录\n",
    "    nav_map = None\n",
    "    for item in book.get_items_of_type(epub.ITEM_NAV):\n",
    "        nav_map = item.get_nav_map()\n",
    "        break\n",
    "\n",
    "    if nav_map:\n",
    "        for chapter in nav_map:\n",
    "            src = chapter.src\n",
    "            item = book.get_item_with_href(src)\n",
    "            chapter_title, start_text, end_text = extract_chapter_info(item)\n",
    "            print(f\"Chapter title: {chapter_title}\")\n",
    "            print(f\"Start text: {start_text}\")\n",
    "            print(f\"End text: {end_text}\")\n",
    "            print(\"\\n\")\n",
    "\n",
    "if __name__ == \"__main__\":\n",
    "    main()\n"
   ]
  }
 ],
 "metadata": {
  "kernelspec": {
   "display_name": "Python 3",
   "language": "python",
   "name": "python3"
  },
  "language_info": {
   "codemirror_mode": {
    "name": "ipython",
    "version": 3
   },
   "file_extension": ".py",
   "mimetype": "text/x-python",
   "name": "python",
   "nbconvert_exporter": "python",
   "pygments_lexer": "ipython3",
   "version": "3.10.4"
  },
  "orig_nbformat": 4
 },
 "nbformat": 4,
 "nbformat_minor": 2
}
