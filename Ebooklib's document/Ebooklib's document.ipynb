{
 "cells": [
  {
   "attachments": {},
   "cell_type": "markdown",
   "metadata": {},
   "source": [
    "参考文档：\n",
    "https://colab.research.google.com/github/openai/openai-cookbook/blob/master/examples/vector_databases/pinecone/GPT4_Retrieval_Augmentation.ipynb"
   ]
  },
  {
   "cell_type": "code",
   "execution_count": 2,
   "metadata": {},
   "outputs": [
    {
     "name": "stdout",
     "output_type": "stream",
     "text": [
      "\n",
      "\u001b[1m[\u001b[0m\u001b[34;49mnotice\u001b[0m\u001b[1;39;49m]\u001b[0m\u001b[39;49m A new release of pip is available: \u001b[0m\u001b[31;49m23.1\u001b[0m\u001b[39;49m -> \u001b[0m\u001b[32;49m23.1.2\u001b[0m\n",
      "\u001b[1m[\u001b[0m\u001b[34;49mnotice\u001b[0m\u001b[1;39;49m]\u001b[0m\u001b[39;49m To update, run: \u001b[0m\u001b[32;49mpython -m pip install --upgrade pip\u001b[0m\n"
     ]
    }
   ],
   "source": [
    "!pip install -qU bs4 tiktoken openai langchain pinecone-client[grpc]"
   ]
  },
  {
   "cell_type": "code",
   "execution_count": 3,
   "metadata": {},
   "outputs": [
    {
     "name": "stdout",
     "output_type": "stream",
     "text": [
      "--2023-05-04 08:28:47--  http://docs.sourcefabric.org/projects/ebooklib/en/latest/\n",
      "Resolving docs.sourcefabric.org (docs.sourcefabric.org)... 104.17.33.82, 104.17.32.82, 2606:4700::6811:2052, ...\n",
      "Connecting to docs.sourcefabric.org (docs.sourcefabric.org)|104.17.33.82|:80... connected.\n",
      "HTTP request sent, awaiting response... 200 OK\n",
      "Length: unspecified [text/html]\n",
      "Saving to: ‘rtdocs/docs.sourcefabric.org/projects/ebooklib/en/latest/index.html’\n",
      "\n",
      "docs.sourcefabric.o     [ <=>                ]  10.53K  --.-KB/s    in 0s      \n",
      "\n",
      "2023-05-04 08:28:47 (233 MB/s) - ‘rtdocs/docs.sourcefabric.org/projects/ebooklib/en/latest/index.html’ saved [10783]\n",
      "\n",
      "Loading robots.txt; please ignore errors.\n",
      "--2023-05-04 08:28:47--  http://docs.sourcefabric.org/robots.txt\n",
      "Reusing existing connection to docs.sourcefabric.org:80.\n",
      "HTTP request sent, awaiting response... 200 OK\n",
      "Length: 96 [text/plain]\n",
      "Saving to: ‘rtdocs/docs.sourcefabric.org/robots.txt.tmp’\n",
      "\n",
      "docs.sourcefabric.o 100%[===================>]      96  --.-KB/s    in 0s      \n",
      "\n",
      "2023-05-04 08:28:47 (10.6 MB/s) - ‘rtdocs/docs.sourcefabric.org/robots.txt.tmp’ saved [96/96]\n",
      "\n",
      "--2023-05-04 08:28:47--  http://docs.sourcefabric.org/projects/ebooklib/en/latest/genindex.html\n",
      "Reusing existing connection to docs.sourcefabric.org:80.\n",
      "HTTP request sent, awaiting response... 200 OK\n",
      "Length: unspecified [text/html]\n",
      "Saving to: ‘rtdocs/docs.sourcefabric.org/projects/ebooklib/en/latest/genindex.html’\n",
      "\n",
      "docs.sourcefabric.o     [ <=>                ]  23.97K  --.-KB/s    in 0s      \n",
      "\n",
      "2023-05-04 08:28:48 (298 MB/s) - ‘rtdocs/docs.sourcefabric.org/projects/ebooklib/en/latest/genindex.html’ saved [24548]\n",
      "\n",
      "--2023-05-04 08:28:48--  http://docs.sourcefabric.org/projects/ebooklib/en/latest/search.html\n",
      "Reusing existing connection to docs.sourcefabric.org:80.\n",
      "HTTP request sent, awaiting response... 200 OK\n",
      "Length: unspecified [text/html]\n",
      "Saving to: ‘rtdocs/docs.sourcefabric.org/projects/ebooklib/en/latest/search.html’\n",
      "\n",
      "docs.sourcefabric.o     [ <=>                ]   7.23K  --.-KB/s    in 0s      \n",
      "\n",
      "2023-05-04 08:28:48 (776 MB/s) - ‘rtdocs/docs.sourcefabric.org/projects/ebooklib/en/latest/search.html’ saved [7402]\n",
      "\n",
      "--2023-05-04 08:28:48--  http://docs.sourcefabric.org/projects/ebooklib/en/latest/tutorial.html\n",
      "Reusing existing connection to docs.sourcefabric.org:80.\n",
      "HTTP request sent, awaiting response... 200 OK\n",
      "Length: unspecified [text/html]\n",
      "Saving to: ‘rtdocs/docs.sourcefabric.org/projects/ebooklib/en/latest/tutorial.html’\n",
      "\n",
      "docs.sourcefabric.o     [ <=>                ]  35.06K  --.-KB/s    in 0s      \n",
      "\n",
      "2023-05-04 08:28:48 (260 MB/s) - ‘rtdocs/docs.sourcefabric.org/projects/ebooklib/en/latest/tutorial.html’ saved [35905]\n",
      "\n",
      "--2023-05-04 08:28:48--  http://docs.sourcefabric.org/projects/ebooklib/en/latest/plugins.html\n",
      "Reusing existing connection to docs.sourcefabric.org:80.\n",
      "HTTP request sent, awaiting response... 200 OK\n",
      "Length: unspecified [text/html]\n",
      "Saving to: ‘rtdocs/docs.sourcefabric.org/projects/ebooklib/en/latest/plugins.html’\n",
      "\n",
      "docs.sourcefabric.o     [ <=>                ]  17.39K  --.-KB/s    in 0s      \n",
      "\n",
      "2023-05-04 08:28:48 (324 MB/s) - ‘rtdocs/docs.sourcefabric.org/projects/ebooklib/en/latest/plugins.html’ saved [17810]\n",
      "\n",
      "--2023-05-04 08:28:48--  http://docs.sourcefabric.org/projects/ebooklib/en/latest/faq.html\n",
      "Reusing existing connection to docs.sourcefabric.org:80.\n",
      "HTTP request sent, awaiting response... 200 OK\n",
      "Length: unspecified [text/html]\n",
      "Saving to: ‘rtdocs/docs.sourcefabric.org/projects/ebooklib/en/latest/faq.html’\n",
      "\n",
      "docs.sourcefabric.o     [ <=>                ]  10.28K  --.-KB/s    in 0s      \n",
      "\n",
      "2023-05-04 08:28:48 (247 MB/s) - ‘rtdocs/docs.sourcefabric.org/projects/ebooklib/en/latest/faq.html’ saved [10524]\n",
      "\n",
      "--2023-05-04 08:28:48--  http://docs.sourcefabric.org/projects/ebooklib/en/latest/ebooklib.html\n",
      "Reusing existing connection to docs.sourcefabric.org:80.\n",
      "HTTP request sent, awaiting response... 200 OK\n",
      "Length: unspecified [text/html]\n",
      "Saving to: ‘rtdocs/docs.sourcefabric.org/projects/ebooklib/en/latest/ebooklib.html’\n",
      "\n",
      "docs.sourcefabric.o     [ <=>                ]  66.57K  --.-KB/s    in 0s      \n",
      "\n",
      "2023-05-04 08:28:48 (186 MB/s) - ‘rtdocs/docs.sourcefabric.org/projects/ebooklib/en/latest/ebooklib.html’ saved [68165]\n",
      "\n",
      "--2023-05-04 08:28:48--  http://docs.sourcefabric.org/projects/ebooklib/en/latest/py-modindex.html\n",
      "Reusing existing connection to docs.sourcefabric.org:80.\n",
      "HTTP request sent, awaiting response... 200 OK\n",
      "Length: unspecified [text/html]\n",
      "Saving to: ‘rtdocs/docs.sourcefabric.org/projects/ebooklib/en/latest/py-modindex.html’\n",
      "\n",
      "docs.sourcefabric.o     [ <=>                ]   8.74K  --.-KB/s    in 0s      \n",
      "\n",
      "2023-05-04 08:28:48 (189 MB/s) - ‘rtdocs/docs.sourcefabric.org/projects/ebooklib/en/latest/py-modindex.html’ saved [8948]\n",
      "\n",
      "--2023-05-04 08:28:48--  http://docs.sourcefabric.org/en/latest/\n",
      "Reusing existing connection to docs.sourcefabric.org:80.\n",
      "HTTP request sent, awaiting response... 200 OK\n",
      "Length: unspecified [text/html]\n",
      "Saving to: ‘rtdocs/docs.sourcefabric.org/en/latest/index.html’\n",
      "\n",
      "docs.sourcefabric.o     [ <=>                ]   7.34K  --.-KB/s    in 0s      \n",
      "\n",
      "2023-05-04 08:28:48 (864 MB/s) - ‘rtdocs/docs.sourcefabric.org/en/latest/index.html’ saved [7518]\n",
      "\n",
      "--2023-05-04 08:28:48--  http://docs.sourcefabric.org/en/stable/\n",
      "Reusing existing connection to docs.sourcefabric.org:80.\n",
      "HTTP request sent, awaiting response... 404 Not Found\n",
      "2023-05-04 08:28:48 ERROR 404: Not Found.\n",
      "\n",
      "--2023-05-04 08:28:48--  http://docs.sourcefabric.org/projects/ebooklib/en/latest/index.html\n",
      "Reusing existing connection to docs.sourcefabric.org:80.\n",
      "HTTP request sent, awaiting response... 200 OK\n",
      "Length: unspecified [text/html]\n",
      "Saving to: ‘rtdocs/docs.sourcefabric.org/projects/ebooklib/en/latest/index.html’\n",
      "\n",
      "docs.sourcefabric.o     [ <=>                ]  10.53K  --.-KB/s    in 0s      \n",
      "\n",
      "2023-05-04 08:28:48 (289 MB/s) - ‘rtdocs/docs.sourcefabric.org/projects/ebooklib/en/latest/index.html’ saved [10783]\n",
      "\n",
      "--2023-05-04 08:28:48--  http://docs.sourcefabric.org/projects/ebooklib/en/latest/ebooklib.plugins.html\n",
      "Reusing existing connection to docs.sourcefabric.org:80.\n",
      "HTTP request sent, awaiting response... 200 OK\n",
      "Length: unspecified [text/html]\n",
      "Saving to: ‘rtdocs/docs.sourcefabric.org/projects/ebooklib/en/latest/ebooklib.plugins.html’\n",
      "\n",
      "docs.sourcefabric.o     [ <=>                ]  25.34K  --.-KB/s    in 0s      \n",
      "\n",
      "2023-05-04 08:28:48 (372 MB/s) - ‘rtdocs/docs.sourcefabric.org/projects/ebooklib/en/latest/ebooklib.plugins.html’ saved [25948]\n",
      "\n",
      "--2023-05-04 08:28:48--  http://docs.sourcefabric.org/projects/ebooklib/en/latest/_modules/ebooklib/epub.html\n",
      "Reusing existing connection to docs.sourcefabric.org:80.\n",
      "HTTP request sent, awaiting response... 200 OK\n",
      "Length: unspecified [text/html]\n",
      "Saving to: ‘rtdocs/docs.sourcefabric.org/projects/ebooklib/en/latest/_modules/ebooklib/epub.html’\n",
      "\n",
      "docs.sourcefabric.o     [ <=>                ] 260.92K  --.-KB/s    in 0.002s  \n",
      "\n",
      "2023-05-04 08:28:48 (123 MB/s) - ‘rtdocs/docs.sourcefabric.org/projects/ebooklib/en/latest/_modules/ebooklib/epub.html’ saved [267184]\n",
      "\n",
      "--2023-05-04 08:28:48--  http://docs.sourcefabric.org/projects/ebooklib/en/latest/_modules/ebooklib/utils.html\n",
      "Reusing existing connection to docs.sourcefabric.org:80.\n",
      "HTTP request sent, awaiting response... 200 OK\n",
      "Length: unspecified [text/html]\n",
      "Saving to: ‘rtdocs/docs.sourcefabric.org/projects/ebooklib/en/latest/_modules/ebooklib/utils.html’\n",
      "\n",
      "docs.sourcefabric.o     [ <=>                ]  21.57K  --.-KB/s    in 0s      \n",
      "\n",
      "2023-05-04 08:28:48 (352 MB/s) - ‘rtdocs/docs.sourcefabric.org/projects/ebooklib/en/latest/_modules/ebooklib/utils.html’ saved [22088]\n",
      "\n",
      "--2023-05-04 08:28:48--  http://docs.sourcefabric.org/en/latest/README.html\n",
      "Reusing existing connection to docs.sourcefabric.org:80.\n",
      "HTTP request sent, awaiting response... 200 OK\n",
      "Length: unspecified [text/html]\n",
      "Saving to: ‘rtdocs/docs.sourcefabric.org/en/latest/README.html’\n",
      "\n",
      "docs.sourcefabric.o     [ <=>                ]   8.70K  --.-KB/s    in 0s      \n",
      "\n",
      "2023-05-04 08:28:48 (164 MB/s) - ‘rtdocs/docs.sourcefabric.org/en/latest/README.html’ saved [8913]\n",
      "\n",
      "--2023-05-04 08:28:48--  http://docs.sourcefabric.org/projects/ebooklib/en/latest/_modules/ebooklib/plugins/base.html\n",
      "Reusing existing connection to docs.sourcefabric.org:80.\n",
      "HTTP request sent, awaiting response... 200 OK\n",
      "Length: unspecified [text/html]\n",
      "Saving to: ‘rtdocs/docs.sourcefabric.org/projects/ebooklib/en/latest/_modules/ebooklib/plugins/base.html’\n",
      "\n",
      "docs.sourcefabric.o     [ <=>                ]  12.65K  --.-KB/s    in 0s      \n",
      "\n",
      "2023-05-04 08:28:48 (359 MB/s) - ‘rtdocs/docs.sourcefabric.org/projects/ebooklib/en/latest/_modules/ebooklib/plugins/base.html’ saved [12949]\n",
      "\n",
      "--2023-05-04 08:28:48--  http://docs.sourcefabric.org/projects/ebooklib/en/latest/_modules/ebooklib/plugins/booktype.html\n",
      "Reusing existing connection to docs.sourcefabric.org:80.\n",
      "HTTP request sent, awaiting response... 200 OK\n",
      "Length: unspecified [text/html]\n",
      "Saving to: ‘rtdocs/docs.sourcefabric.org/projects/ebooklib/en/latest/_modules/ebooklib/plugins/booktype.html’\n",
      "\n",
      "docs.sourcefabric.o     [ <=>                ]  24.49K  --.-KB/s    in 0s      \n",
      "\n",
      "2023-05-04 08:28:48 (240 MB/s) - ‘rtdocs/docs.sourcefabric.org/projects/ebooklib/en/latest/_modules/ebooklib/plugins/booktype.html’ saved [25078]\n",
      "\n",
      "--2023-05-04 08:28:48--  http://docs.sourcefabric.org/projects/ebooklib/en/latest/_modules/ebooklib/plugins/sourcecode.html\n",
      "Reusing existing connection to docs.sourcefabric.org:80.\n",
      "HTTP request sent, awaiting response... 200 OK\n",
      "Length: unspecified [text/html]\n",
      "Saving to: ‘rtdocs/docs.sourcefabric.org/projects/ebooklib/en/latest/_modules/ebooklib/plugins/sourcecode.html’\n",
      "\n",
      "docs.sourcefabric.o     [ <=>                ]  15.50K  --.-KB/s    in 0s      \n",
      "\n",
      "2023-05-04 08:28:48 (431 MB/s) - ‘rtdocs/docs.sourcefabric.org/projects/ebooklib/en/latest/_modules/ebooklib/plugins/sourcecode.html’ saved [15871]\n",
      "\n",
      "--2023-05-04 08:28:48--  http://docs.sourcefabric.org/projects/ebooklib/en/latest/_modules/ebooklib/plugins/standard.html\n",
      "Reusing existing connection to docs.sourcefabric.org:80.\n",
      "HTTP request sent, awaiting response... 200 OK\n",
      "Length: unspecified [text/html]\n",
      "Saving to: ‘rtdocs/docs.sourcefabric.org/projects/ebooklib/en/latest/_modules/ebooklib/plugins/standard.html’\n",
      "\n",
      "docs.sourcefabric.o     [ <=>                ]  59.33K  --.-KB/s    in 0s      \n",
      "\n",
      "2023-05-04 08:28:48 (325 MB/s) - ‘rtdocs/docs.sourcefabric.org/projects/ebooklib/en/latest/_modules/ebooklib/plugins/standard.html’ saved [60751]\n",
      "\n",
      "--2023-05-04 08:28:48--  http://docs.sourcefabric.org/projects/ebooklib/en/latest/_modules/ebooklib/plugins/tidyhtml.html\n",
      "Reusing existing connection to docs.sourcefabric.org:80.\n",
      "HTTP request sent, awaiting response... 200 OK\n",
      "Length: unspecified [text/html]\n",
      "Saving to: ‘rtdocs/docs.sourcefabric.org/projects/ebooklib/en/latest/_modules/ebooklib/plugins/tidyhtml.html’\n",
      "\n",
      "docs.sourcefabric.o     [ <=>                ]  16.51K  --.-KB/s    in 0s      \n",
      "\n",
      "2023-05-04 08:28:48 (221 MB/s) - ‘rtdocs/docs.sourcefabric.org/projects/ebooklib/en/latest/_modules/ebooklib/plugins/tidyhtml.html’ saved [16911]\n",
      "\n",
      "--2023-05-04 08:28:48--  http://docs.sourcefabric.org/projects/ebooklib/en/latest/_modules/index.html\n",
      "Reusing existing connection to docs.sourcefabric.org:80.\n",
      "HTTP request sent, awaiting response... 200 OK\n",
      "Length: unspecified [text/html]\n",
      "Saving to: ‘rtdocs/docs.sourcefabric.org/projects/ebooklib/en/latest/_modules/index.html’\n",
      "\n",
      "docs.sourcefabric.o     [ <=>                ]   7.22K  --.-KB/s    in 0s      \n",
      "\n",
      "2023-05-04 08:28:48 (194 MB/s) - ‘rtdocs/docs.sourcefabric.org/projects/ebooklib/en/latest/_modules/index.html’ saved [7393]\n",
      "\n",
      "--2023-05-04 08:28:48--  http://docs.sourcefabric.org/en/latest/index.html\n",
      "Reusing existing connection to docs.sourcefabric.org:80.\n",
      "HTTP request sent, awaiting response... 200 OK\n",
      "Length: unspecified [text/html]\n",
      "Saving to: ‘rtdocs/docs.sourcefabric.org/en/latest/index.html’\n",
      "\n",
      "docs.sourcefabric.o     [ <=>                ]   7.34K  --.-KB/s    in 0s      \n",
      "\n",
      "2023-05-04 08:28:48 (739 MB/s) - ‘rtdocs/docs.sourcefabric.org/en/latest/index.html’ saved [7518]\n",
      "\n",
      "--2023-05-04 08:28:48--  http://docs.sourcefabric.org/projects/ebooklib/\n",
      "Reusing existing connection to docs.sourcefabric.org:80.\n",
      "HTTP request sent, awaiting response... 302 Found\n",
      "Location: http://docs.sourcefabric.org/projects/ebooklib/en/latest/ [following]\n",
      "--2023-05-04 08:28:48--  http://docs.sourcefabric.org/projects/ebooklib/en/latest/\n",
      "Reusing existing connection to docs.sourcefabric.org:80.\n",
      "HTTP request sent, awaiting response... 200 OK\n",
      "Length: unspecified [text/html]\n",
      "Saving to: ‘rtdocs/docs.sourcefabric.org/projects/ebooklib/index.html’\n",
      "\n",
      "docs.sourcefabric.o     [ <=>                ]  10.53K  --.-KB/s    in 0s      \n",
      "\n",
      "2023-05-04 08:28:48 (191 MB/s) - ‘rtdocs/docs.sourcefabric.org/projects/ebooklib/index.html’ saved [10783]\n",
      "\n",
      "--2023-05-04 08:28:48--  http://docs.sourcefabric.org/projects/live-blog-restful-api/\n",
      "Reusing existing connection to docs.sourcefabric.org:80.\n",
      "HTTP request sent, awaiting response... 302 Found\n",
      "Location: http://docs.sourcefabric.org/projects/live-blog-restful-api/en/latest/ [following]\n",
      "--2023-05-04 08:28:48--  http://docs.sourcefabric.org/projects/live-blog-restful-api/en/latest/\n",
      "Reusing existing connection to docs.sourcefabric.org:80.\n",
      "HTTP request sent, awaiting response... 200 OK\n",
      "Length: unspecified [text/html]\n",
      "Saving to: ‘rtdocs/docs.sourcefabric.org/projects/live-blog-restful-api/index.html’\n",
      "\n",
      "docs.sourcefabric.o     [ <=>                ]   8.02K  --.-KB/s    in 0s      \n",
      "\n",
      "2023-05-04 08:28:48 (166 MB/s) - ‘rtdocs/docs.sourcefabric.org/projects/live-blog-restful-api/index.html’ saved [8209]\n",
      "\n",
      "--2023-05-04 08:28:48--  http://docs.sourcefabric.org/projects/ebooklib/en/latest/_modules/\n",
      "Reusing existing connection to docs.sourcefabric.org:80.\n",
      "HTTP request sent, awaiting response... 200 OK\n",
      "Length: unspecified [text/html]\n",
      "Saving to: ‘rtdocs/docs.sourcefabric.org/projects/ebooklib/en/latest/_modules/index.html’\n",
      "\n",
      "docs.sourcefabric.o     [ <=>                ]   7.22K  --.-KB/s    in 0s      \n",
      "\n",
      "2023-05-04 08:28:48 (630 MB/s) - ‘rtdocs/docs.sourcefabric.org/projects/ebooklib/en/latest/_modules/index.html’ saved [7393]\n",
      "\n",
      "--2023-05-04 08:28:48--  http://docs.sourcefabric.org/projects/live-blog-restful-api/en/latest/search.html\n",
      "Reusing existing connection to docs.sourcefabric.org:80.\n",
      "HTTP request sent, awaiting response... 200 OK\n",
      "Length: unspecified [text/html]\n",
      "Saving to: ‘rtdocs/docs.sourcefabric.org/projects/live-blog-restful-api/en/latest/search.html’\n",
      "\n",
      "docs.sourcefabric.o     [ <=>                ]   7.01K  --.-KB/s    in 0s      \n",
      "\n",
      "2023-05-04 08:28:48 (519 MB/s) - ‘rtdocs/docs.sourcefabric.org/projects/live-blog-restful-api/en/latest/search.html’ saved [7181]\n",
      "\n",
      "--2023-05-04 08:28:48--  http://docs.sourcefabric.org/projects/live-blog-restful-api/en/latest/README.html\n",
      "Reusing existing connection to docs.sourcefabric.org:80.\n",
      "HTTP request sent, awaiting response... 200 OK\n",
      "Length: unspecified [text/html]\n",
      "Saving to: ‘rtdocs/docs.sourcefabric.org/projects/live-blog-restful-api/en/latest/README.html’\n",
      "\n",
      "docs.sourcefabric.o     [ <=>                ]  20.62K  --.-KB/s    in 0s      \n",
      "\n",
      "2023-05-04 08:28:49 (318 MB/s) - ‘rtdocs/docs.sourcefabric.org/projects/live-blog-restful-api/en/latest/README.html’ saved [21116]\n",
      "\n",
      "--2023-05-04 08:28:49--  http://docs.sourcefabric.org/projects/live-blog-restful-api/en/latest/authentication.html\n",
      "Reusing existing connection to docs.sourcefabric.org:80.\n",
      "HTTP request sent, awaiting response... 200 OK\n",
      "Length: unspecified [text/html]\n",
      "Saving to: ‘rtdocs/docs.sourcefabric.org/projects/live-blog-restful-api/en/latest/authentication.html’\n",
      "\n",
      "docs.sourcefabric.o     [ <=>                ]  11.45K  --.-KB/s    in 0s      \n",
      "\n",
      "2023-05-04 08:28:49 (207 MB/s) - ‘rtdocs/docs.sourcefabric.org/projects/live-blog-restful-api/en/latest/authentication.html’ saved [11728]\n",
      "\n",
      "--2023-05-04 08:28:49--  http://docs.sourcefabric.org/projects/live-blog-restful-api/en/latest/resources.html\n",
      "Reusing existing connection to docs.sourcefabric.org:80.\n",
      "HTTP request sent, awaiting response... 200 OK\n",
      "Length: unspecified [text/html]\n",
      "Saving to: ‘rtdocs/docs.sourcefabric.org/projects/live-blog-restful-api/en/latest/resources.html’\n",
      "\n",
      "docs.sourcefabric.o     [ <=>                ]  37.87K  --.-KB/s    in 0s      \n",
      "\n",
      "2023-05-04 08:28:49 (283 MB/s) - ‘rtdocs/docs.sourcefabric.org/projects/live-blog-restful-api/en/latest/resources.html’ saved [38774]\n",
      "\n",
      "--2023-05-04 08:28:49--  http://docs.sourcefabric.org/projects/live-blog-restful-api/en/latest/index.html\n",
      "Reusing existing connection to docs.sourcefabric.org:80.\n",
      "HTTP request sent, awaiting response... 200 OK\n",
      "Length: unspecified [text/html]\n",
      "Saving to: ‘rtdocs/docs.sourcefabric.org/projects/live-blog-restful-api/en/latest/index.html’\n",
      "\n",
      "docs.sourcefabric.o     [ <=>                ]   8.02K  --.-KB/s    in 0s      \n",
      "\n",
      "2023-05-04 08:28:49 (215 MB/s) - ‘rtdocs/docs.sourcefabric.org/projects/live-blog-restful-api/en/latest/index.html’ saved [8209]\n",
      "\n",
      "--2023-05-04 08:28:49--  http://docs.sourcefabric.org/projects/live-blog-restful-api/en/latest/python-example.html\n",
      "Reusing existing connection to docs.sourcefabric.org:80.\n",
      "HTTP request sent, awaiting response... 200 OK\n",
      "Length: unspecified [text/html]\n",
      "Saving to: ‘rtdocs/docs.sourcefabric.org/projects/live-blog-restful-api/en/latest/python-example.html’\n",
      "\n",
      "docs.sourcefabric.o     [ <=>                ]  12.35K  --.-KB/s    in 0s      \n",
      "\n",
      "2023-05-04 08:28:49 (331 MB/s) - ‘rtdocs/docs.sourcefabric.org/projects/live-blog-restful-api/en/latest/python-example.html’ saved [12644]\n",
      "\n",
      "FINISHED --2023-05-04 08:28:49--\n",
      "Total wall clock time: 1.9s\n",
      "Downloaded: 31 files, 780K in 0.004s (192 MB/s)\n"
     ]
    }
   ],
   "source": [
    "!wget -r -A.html -P rtdocs http://docs.sourcefabric.org/projects/ebooklib/en/latest/"
   ]
  },
  {
   "cell_type": "code",
   "execution_count": 4,
   "metadata": {},
   "outputs": [
    {
     "name": "stderr",
     "output_type": "stream",
     "text": [
      "/home/codespace/.python/current/lib/python3.10/site-packages/langchain/document_loaders/readthedocs.py:30: GuessedAtParserWarning: No parser was explicitly specified, so I'm using the best available HTML parser for this system (\"lxml\"). This usually isn't a problem, but if you run this code on another system, or in a different virtual environment, it may use a different parser and behave differently.\n",
      "\n",
      "The code that caused this warning is on line 30 of the file /home/codespace/.python/current/lib/python3.10/site-packages/langchain/document_loaders/readthedocs.py. To get rid of this warning, pass the additional argument 'features=\"lxml\"' to the BeautifulSoup constructor.\n",
      "\n",
      "  _ = BeautifulSoup(\n",
      "/home/codespace/.python/current/lib/python3.10/site-packages/langchain/document_loaders/readthedocs.py:46: GuessedAtParserWarning: No parser was explicitly specified, so I'm using the best available HTML parser for this system (\"lxml\"). This usually isn't a problem, but if you run this code on another system, or in a different virtual environment, it may use a different parser and behave differently.\n",
      "\n",
      "The code that caused this warning is on line 46 of the file /home/codespace/.python/current/lib/python3.10/site-packages/langchain/document_loaders/readthedocs.py. To get rid of this warning, pass the additional argument 'features=\"lxml\"' to the BeautifulSoup constructor.\n",
      "\n",
      "  soup = BeautifulSoup(data, **self.bs_kwargs)\n",
      "/home/codespace/.python/current/lib/python3.10/site-packages/langchain/document_loaders/readthedocs.py:46: MarkupResemblesLocatorWarning: The input looks more like a filename than markup. You may want to open this file and pass the filehandle into Beautiful Soup.\n",
      "  soup = BeautifulSoup(data, **self.bs_kwargs)\n"
     ]
    },
    {
     "data": {
      "text/plain": [
       "28"
      ]
     },
     "execution_count": 4,
     "metadata": {},
     "output_type": "execute_result"
    }
   ],
   "source": [
    "from langchain.document_loaders import ReadTheDocsLoader\n",
    "\n",
    "loader = ReadTheDocsLoader('rtdocs')\n",
    "docs = loader.load()\n",
    "len(docs)"
   ]
  },
  {
   "cell_type": "code",
   "execution_count": 5,
   "metadata": {},
   "outputs": [
    {
     "data": {
      "text/plain": [
       "Document(page_content='', metadata={'source': 'rtdocs/docs.sourcefabric.org/robots.txt.tmp'})"
      ]
     },
     "execution_count": 5,
     "metadata": {},
     "output_type": "execute_result"
    }
   ],
   "source": [
    "docs[0]"
   ]
  },
  {
   "cell_type": "code",
   "execution_count": 8,
   "metadata": {},
   "outputs": [
    {
     "name": "stdout",
     "output_type": "stream",
     "text": [
      "Plugins¶\n",
      "Plugins can be used to automate some of the workflow. For instance ebooklib.plugins.tidyhtml plugins automatically cleans HTML\n",
      "output for you. FootnotePlugin for instance rewrites custom footnotes into EPUB3 kind of footnotes. Without these plugins you would\n",
      "need to do wanted transformations before setting or getting content from your chapters.\n",
      "There is a ebooklib.plugins.base.BasePlugin class which you need to extend. These are the methods you can override.\n",
      "Method\n",
      "Arguments\n",
      "Description\n",
      "before_write\n",
      "book\n",
      "Processing before book save\n",
      "after_write\n",
      "book\n",
      "Processing after book save\n",
      "before_read\n",
      "book\n",
      "Processing before book read\n",
      "after_read\n",
      "book\n",
      "Processing after book read\n",
      "item_after_read\n",
      "book, item\n",
      "Process general item after read\n",
      "item_before_write\n",
      "book, item\n",
      "Process general item before write\n",
      "html_after_read\n",
      "book, chapter\n",
      "Processing HTML before read\n",
      "html_before_write\n",
      "book, chapter\n",
      "Processing HTML before save\n",
      "Custom plugin¶\n",
      "This is our use case. We have online WYSIWYG editing system for editing content of our books. In the editor to link\n",
      "to our other page we use this syntax <a href=”../page/”>Our page</a> but in the EPUB book we would need to link\n",
      "to page.xhtml file for instance.\n",
      "We could do the transformations manually or we could write a plugin which does all of the work for us. We override html_before_write\n",
      "method. We parse the content of our chapter, find all links, replace them with new href and finally set new\n",
      "content to the chapter.\n",
      "try:\n",
      "    from urlparse import urlparse, urljoin\n",
      "except ImportError:\n",
      "    from urllib.parse import urlparse, urljoin\n",
      "from lxml import  etree\n",
      "from ebooklib.plugins.base import BasePlugin\n",
      "from ebooklib.utils import parse_html_string\n",
      "class MyeLinks(BasePlugin):\n",
      "    NAME = 'My Links'\n",
      "    def html_before_write(self, book, chapter):\n",
      "        try:\n",
      "            tree = parse_html_string(chapter.content)\n",
      "        except:\n",
      "            return\n",
      "        root = tree.getroottree()\n",
      "        if len(root.find('body')) != 0:\n",
      "            body = tree.find('body')\n",
      "            for _link in body.xpath('//a'):\n",
      "                _u = urlparse(_link.get('href', ''))\n",
      "                # Let us care only for internal links at the moment\n",
      "                if _u.scheme == '':\n",
      "                    if _u.path != '':\n",
      "                        _link.set('href', '%s.xhtml' % _u.path)\n",
      "                    if _u.fragment != '':\n",
      "                        _link.set('href', urljoin(_link.get('href'), '#%s' % _u.fragment))\n",
      "                    if _link.get('name') != None:\n",
      "                        _link.set('id', _link.get('name'))\n",
      "                        etree.strip_attributes(_link, 'name')\n",
      "        chapter.content = etree.tostring(tree, pretty_print=True, encoding='utf-8')\n",
      "When you want to use it just pass the list of plugins you want to use as extra option to the write_epub method\n",
      "(also to read_epub method). Plugins will be executed in the order they are defined in the list.\n",
      "epub.write_epub('test.epub', book, {\"plugins\": [MyLinks()]})\n"
     ]
    }
   ],
   "source": [
    "print(docs[11].page_content)"
   ]
  },
  {
   "cell_type": "code",
   "execution_count": 20,
   "metadata": {},
   "outputs": [
    {
     "name": "stdout",
     "output_type": "stream",
     "text": [
      "1 rtdocs/docs.sourcefabric.org/projects/live-blog-restful-api/en/latest/python-example.html\n",
      "2 https://docs.sourcefabric.org/projects/live-blog-restful-api/en/latest/python-example.html\n"
     ]
    }
   ],
   "source": [
    "\n",
    "print(\"1\",docs[5].metadata['source'])\n",
    "new = docs[5].metadata['source'].replace('rtdocs/', 'https://')\n",
    "\n",
    "\n",
    "print(\"2\",new)"
   ]
  },
  {
   "cell_type": "code",
   "execution_count": 9,
   "metadata": {},
   "outputs": [],
   "source": [
    "import tiktoken\n",
    "\n",
    "tokenizer = tiktoken.get_encoding('p50k_base')\n",
    "\n",
    "# create the length function\n",
    "def tiktoken_len(text):\n",
    "    tokens = tokenizer.encode(\n",
    "        text,\n",
    "        disallowed_special=()\n",
    "    )\n",
    "    return len(tokens)"
   ]
  },
  {
   "cell_type": "code",
   "execution_count": 10,
   "metadata": {},
   "outputs": [],
   "source": [
    "from langchain.text_splitter import RecursiveCharacterTextSplitter\n",
    "\n",
    "text_splitter = RecursiveCharacterTextSplitter(\n",
    "    chunk_size=400,\n",
    "    chunk_overlap=20,\n",
    "    length_function=tiktoken_len,\n",
    "    separators=[\"\\n\\n\", \"\\n\", \" \", \"\"]\n",
    ")"
   ]
  },
  {
   "cell_type": "code",
   "execution_count": 23,
   "metadata": {},
   "outputs": [
    {
     "data": {
      "application/vnd.jupyter.widget-view+json": {
       "model_id": "52477fc92370410c930c199e8de8c111",
       "version_major": 2,
       "version_minor": 0
      },
      "text/plain": [
       "  0%|          | 0/28 [00:00<?, ?it/s]"
      ]
     },
     "metadata": {},
     "output_type": "display_data"
    }
   ],
   "source": [
    "chunks = []\n",
    "\n",
    "for idx, record in enumerate(tqdm(docs)):\n",
    "    texts = text_splitter.split_text(record.page_content)\n",
    "    chunks.extend([{\n",
    "        'id': str(uuid4()),\n",
    "        'text': texts[i],\n",
    "        'chunk': i,\n",
    "        'url': record.metadata['source']  # 替换此行\n",
    "    } for i in range(len(texts))])\n"
   ]
  },
  {
   "cell_type": "code",
   "execution_count": 36,
   "metadata": {},
   "outputs": [],
   "source": [
    "\n",
    "import openai\n",
    "\n",
    "# initialize openai API key\n",
    "openai.api_key = input(\"sk-...\")  #platform.openai.com\n",
    "\n",
    "embed_model = \"text-embedding-ada-002\"\n",
    "\n",
    "res = openai.Embedding.create(\n",
    "    input=[\n",
    "        \"Sample document text goes here\",\n",
    "        \"there will be several phrases in each batch\"\n",
    "    ], engine=embed_model\n",
    ")"
   ]
  },
  {
   "cell_type": "code",
   "execution_count": 25,
   "metadata": {},
   "outputs": [
    {
     "data": {
      "text/plain": [
       "dict_keys(['object', 'data', 'model', 'usage'])"
      ]
     },
     "execution_count": 25,
     "metadata": {},
     "output_type": "execute_result"
    }
   ],
   "source": [
    "res.keys()"
   ]
  },
  {
   "cell_type": "code",
   "execution_count": 26,
   "metadata": {},
   "outputs": [
    {
     "data": {
      "text/plain": [
       "2"
      ]
     },
     "execution_count": 26,
     "metadata": {},
     "output_type": "execute_result"
    }
   ],
   "source": [
    "len(res['data'])"
   ]
  },
  {
   "cell_type": "code",
   "execution_count": 27,
   "metadata": {},
   "outputs": [
    {
     "data": {
      "text/plain": [
       "(1536, 1536)"
      ]
     },
     "execution_count": 27,
     "metadata": {},
     "output_type": "execute_result"
    }
   ],
   "source": [
    "\n",
    "len(res['data'][0]['embedding']), len(res['data'][1]['embedding'])"
   ]
  },
  {
   "cell_type": "code",
   "execution_count": 44,
   "metadata": {},
   "outputs": [],
   "source": [
    "import pinecone\n",
    "import os\n",
    "\n",
    "index_name = 'gpt-3.5-turo-langchain-docs'\n",
    "\n",
    "# initialize connection to pinecone\n",
    "pinecone.init(\n",
    "    api_key=input(\"PINECONE_API_KEY\"),\n",
    "    environment=input(\"PINECONE_ENVIRONMENT\")\n",
    ")\n"
   ]
  },
  {
   "cell_type": "code",
   "execution_count": 46,
   "metadata": {},
   "outputs": [
    {
     "name": "stdout",
     "output_type": "stream",
     "text": [
      "出错? <module 'pinecone' from '/home/codespace/.python/current/lib/python3.10/site-packages/pinecone/__init__.py'>\n"
     ]
    },
    {
     "ename": "MaxRetryError",
     "evalue": "HTTPSConnectionPool(host='controller.wangshiqi.pinecone.io', port=443): Max retries exceeded with url: /databases (Caused by NewConnectionError('<urllib3.connection.HTTPSConnection object at 0x7f150d73ffd0>: Failed to establish a new connection: [Errno -2] Name or service not known'))",
     "output_type": "error",
     "traceback": [
      "\u001b[0;31m---------------------------------------------------------------------------\u001b[0m",
      "\u001b[0;31mgaierror\u001b[0m                                  Traceback (most recent call last)",
      "File \u001b[0;32m~/.local/lib/python3.10/site-packages/urllib3/connection.py:174\u001b[0m, in \u001b[0;36mHTTPConnection._new_conn\u001b[0;34m(self)\u001b[0m\n\u001b[1;32m    173\u001b[0m \u001b[39mtry\u001b[39;00m:\n\u001b[0;32m--> 174\u001b[0m     conn \u001b[39m=\u001b[39m connection\u001b[39m.\u001b[39;49mcreate_connection(\n\u001b[1;32m    175\u001b[0m         (\u001b[39mself\u001b[39;49m\u001b[39m.\u001b[39;49m_dns_host, \u001b[39mself\u001b[39;49m\u001b[39m.\u001b[39;49mport), \u001b[39mself\u001b[39;49m\u001b[39m.\u001b[39;49mtimeout, \u001b[39m*\u001b[39;49m\u001b[39m*\u001b[39;49mextra_kw\n\u001b[1;32m    176\u001b[0m     )\n\u001b[1;32m    178\u001b[0m \u001b[39mexcept\u001b[39;00m SocketTimeout:\n",
      "File \u001b[0;32m~/.local/lib/python3.10/site-packages/urllib3/util/connection.py:72\u001b[0m, in \u001b[0;36mcreate_connection\u001b[0;34m(address, timeout, source_address, socket_options)\u001b[0m\n\u001b[1;32m     68\u001b[0m     \u001b[39mreturn\u001b[39;00m six\u001b[39m.\u001b[39mraise_from(\n\u001b[1;32m     69\u001b[0m         LocationParseError(\u001b[39mu\u001b[39m\u001b[39m\"\u001b[39m\u001b[39m'\u001b[39m\u001b[39m%s\u001b[39;00m\u001b[39m'\u001b[39m\u001b[39m, label empty or too long\u001b[39m\u001b[39m\"\u001b[39m \u001b[39m%\u001b[39m host), \u001b[39mNone\u001b[39;00m\n\u001b[1;32m     70\u001b[0m     )\n\u001b[0;32m---> 72\u001b[0m \u001b[39mfor\u001b[39;00m res \u001b[39min\u001b[39;00m socket\u001b[39m.\u001b[39;49mgetaddrinfo(host, port, family, socket\u001b[39m.\u001b[39;49mSOCK_STREAM):\n\u001b[1;32m     73\u001b[0m     af, socktype, proto, canonname, sa \u001b[39m=\u001b[39m res\n",
      "File \u001b[0;32m~/.python/current/lib/python3.10/socket.py:955\u001b[0m, in \u001b[0;36mgetaddrinfo\u001b[0;34m(host, port, family, type, proto, flags)\u001b[0m\n\u001b[1;32m    954\u001b[0m addrlist \u001b[39m=\u001b[39m []\n\u001b[0;32m--> 955\u001b[0m \u001b[39mfor\u001b[39;00m res \u001b[39min\u001b[39;00m _socket\u001b[39m.\u001b[39;49mgetaddrinfo(host, port, family, \u001b[39mtype\u001b[39;49m, proto, flags):\n\u001b[1;32m    956\u001b[0m     af, socktype, proto, canonname, sa \u001b[39m=\u001b[39m res\n",
      "\u001b[0;31mgaierror\u001b[0m: [Errno -2] Name or service not known",
      "\nDuring handling of the above exception, another exception occurred:\n",
      "\u001b[0;31mNewConnectionError\u001b[0m                        Traceback (most recent call last)",
      "File \u001b[0;32m~/.local/lib/python3.10/site-packages/urllib3/connectionpool.py:703\u001b[0m, in \u001b[0;36mHTTPConnectionPool.urlopen\u001b[0;34m(self, method, url, body, headers, retries, redirect, assert_same_host, timeout, pool_timeout, release_conn, chunked, body_pos, **response_kw)\u001b[0m\n\u001b[1;32m    702\u001b[0m \u001b[39m# Make the request on the httplib connection object.\u001b[39;00m\n\u001b[0;32m--> 703\u001b[0m httplib_response \u001b[39m=\u001b[39m \u001b[39mself\u001b[39;49m\u001b[39m.\u001b[39;49m_make_request(\n\u001b[1;32m    704\u001b[0m     conn,\n\u001b[1;32m    705\u001b[0m     method,\n\u001b[1;32m    706\u001b[0m     url,\n\u001b[1;32m    707\u001b[0m     timeout\u001b[39m=\u001b[39;49mtimeout_obj,\n\u001b[1;32m    708\u001b[0m     body\u001b[39m=\u001b[39;49mbody,\n\u001b[1;32m    709\u001b[0m     headers\u001b[39m=\u001b[39;49mheaders,\n\u001b[1;32m    710\u001b[0m     chunked\u001b[39m=\u001b[39;49mchunked,\n\u001b[1;32m    711\u001b[0m )\n\u001b[1;32m    713\u001b[0m \u001b[39m# If we're going to release the connection in ``finally:``, then\u001b[39;00m\n\u001b[1;32m    714\u001b[0m \u001b[39m# the response doesn't need to know about the connection. Otherwise\u001b[39;00m\n\u001b[1;32m    715\u001b[0m \u001b[39m# it will also try to release it and we'll have a double-release\u001b[39;00m\n\u001b[1;32m    716\u001b[0m \u001b[39m# mess.\u001b[39;00m\n",
      "File \u001b[0;32m~/.local/lib/python3.10/site-packages/urllib3/connectionpool.py:386\u001b[0m, in \u001b[0;36mHTTPConnectionPool._make_request\u001b[0;34m(self, conn, method, url, timeout, chunked, **httplib_request_kw)\u001b[0m\n\u001b[1;32m    385\u001b[0m \u001b[39mtry\u001b[39;00m:\n\u001b[0;32m--> 386\u001b[0m     \u001b[39mself\u001b[39;49m\u001b[39m.\u001b[39;49m_validate_conn(conn)\n\u001b[1;32m    387\u001b[0m \u001b[39mexcept\u001b[39;00m (SocketTimeout, BaseSSLError) \u001b[39mas\u001b[39;00m e:\n\u001b[1;32m    388\u001b[0m     \u001b[39m# Py2 raises this as a BaseSSLError, Py3 raises it as socket timeout.\u001b[39;00m\n",
      "File \u001b[0;32m~/.local/lib/python3.10/site-packages/urllib3/connectionpool.py:1042\u001b[0m, in \u001b[0;36mHTTPSConnectionPool._validate_conn\u001b[0;34m(self, conn)\u001b[0m\n\u001b[1;32m   1041\u001b[0m \u001b[39mif\u001b[39;00m \u001b[39mnot\u001b[39;00m \u001b[39mgetattr\u001b[39m(conn, \u001b[39m\"\u001b[39m\u001b[39msock\u001b[39m\u001b[39m\"\u001b[39m, \u001b[39mNone\u001b[39;00m):  \u001b[39m# AppEngine might not have  `.sock`\u001b[39;00m\n\u001b[0;32m-> 1042\u001b[0m     conn\u001b[39m.\u001b[39;49mconnect()\n\u001b[1;32m   1044\u001b[0m \u001b[39mif\u001b[39;00m \u001b[39mnot\u001b[39;00m conn\u001b[39m.\u001b[39mis_verified:\n",
      "File \u001b[0;32m~/.local/lib/python3.10/site-packages/urllib3/connection.py:363\u001b[0m, in \u001b[0;36mHTTPSConnection.connect\u001b[0;34m(self)\u001b[0m\n\u001b[1;32m    361\u001b[0m \u001b[39mdef\u001b[39;00m \u001b[39mconnect\u001b[39m(\u001b[39mself\u001b[39m):\n\u001b[1;32m    362\u001b[0m     \u001b[39m# Add certificate verification\u001b[39;00m\n\u001b[0;32m--> 363\u001b[0m     \u001b[39mself\u001b[39m\u001b[39m.\u001b[39msock \u001b[39m=\u001b[39m conn \u001b[39m=\u001b[39m \u001b[39mself\u001b[39;49m\u001b[39m.\u001b[39;49m_new_conn()\n\u001b[1;32m    364\u001b[0m     hostname \u001b[39m=\u001b[39m \u001b[39mself\u001b[39m\u001b[39m.\u001b[39mhost\n",
      "File \u001b[0;32m~/.local/lib/python3.10/site-packages/urllib3/connection.py:186\u001b[0m, in \u001b[0;36mHTTPConnection._new_conn\u001b[0;34m(self)\u001b[0m\n\u001b[1;32m    185\u001b[0m \u001b[39mexcept\u001b[39;00m SocketError \u001b[39mas\u001b[39;00m e:\n\u001b[0;32m--> 186\u001b[0m     \u001b[39mraise\u001b[39;00m NewConnectionError(\n\u001b[1;32m    187\u001b[0m         \u001b[39mself\u001b[39m, \u001b[39m\"\u001b[39m\u001b[39mFailed to establish a new connection: \u001b[39m\u001b[39m%s\u001b[39;00m\u001b[39m\"\u001b[39m \u001b[39m%\u001b[39m e\n\u001b[1;32m    188\u001b[0m     )\n\u001b[1;32m    190\u001b[0m \u001b[39mreturn\u001b[39;00m conn\n",
      "\u001b[0;31mNewConnectionError\u001b[0m: <urllib3.connection.HTTPSConnection object at 0x7f150d73ffd0>: Failed to establish a new connection: [Errno -2] Name or service not known",
      "\nDuring handling of the above exception, another exception occurred:\n",
      "\u001b[0;31mMaxRetryError\u001b[0m                             Traceback (most recent call last)",
      "Cell \u001b[0;32mIn[46], line 3\u001b[0m\n\u001b[1;32m      1\u001b[0m \u001b[39mprint\u001b[39m(\u001b[39m\"\u001b[39m\u001b[39m出错?\u001b[39m\u001b[39m\"\u001b[39m,pinecone)\n\u001b[1;32m      2\u001b[0m \u001b[39m# check if index already exists (it shouldn't if this is first time)\u001b[39;00m\n\u001b[0;32m----> 3\u001b[0m \u001b[39mif\u001b[39;00m index_name \u001b[39mnot\u001b[39;00m \u001b[39min\u001b[39;00m pinecone\u001b[39m.\u001b[39;49mlist_indexes():\n\u001b[1;32m      4\u001b[0m     \u001b[39m# if does not exist, create index\u001b[39;00m\n\u001b[1;32m      5\u001b[0m     pinecone\u001b[39m.\u001b[39mcreate_index(\n\u001b[1;32m      6\u001b[0m         index_name,\n\u001b[1;32m      7\u001b[0m         dimension\u001b[39m=\u001b[39m\u001b[39mlen\u001b[39m(res[\u001b[39m'\u001b[39m\u001b[39mdata\u001b[39m\u001b[39m'\u001b[39m][\u001b[39m0\u001b[39m][\u001b[39m'\u001b[39m\u001b[39membedding\u001b[39m\u001b[39m'\u001b[39m]),\n\u001b[1;32m      8\u001b[0m         metric\u001b[39m=\u001b[39m\u001b[39m'\u001b[39m\u001b[39mdotproduct\u001b[39m\u001b[39m'\u001b[39m\n\u001b[1;32m      9\u001b[0m     )\n\u001b[1;32m     10\u001b[0m \u001b[39m# connect to index\u001b[39;00m\n",
      "File \u001b[0;32m~/.python/current/lib/python3.10/site-packages/pinecone/manage.py:185\u001b[0m, in \u001b[0;36mlist_indexes\u001b[0;34m()\u001b[0m\n\u001b[1;32m    183\u001b[0m \u001b[39m\u001b[39m\u001b[39m\"\"\"Lists all indexes.\"\"\"\u001b[39;00m\n\u001b[1;32m    184\u001b[0m api_instance \u001b[39m=\u001b[39m _get_api_instance()\n\u001b[0;32m--> 185\u001b[0m response \u001b[39m=\u001b[39m api_instance\u001b[39m.\u001b[39;49mlist_indexes()\n\u001b[1;32m    186\u001b[0m \u001b[39mreturn\u001b[39;00m response\n",
      "File \u001b[0;32m~/.python/current/lib/python3.10/site-packages/pinecone/core/client/api_client.py:776\u001b[0m, in \u001b[0;36mEndpoint.__call__\u001b[0;34m(self, *args, **kwargs)\u001b[0m\n\u001b[1;32m    765\u001b[0m \u001b[39mdef\u001b[39;00m \u001b[39m__call__\u001b[39m(\u001b[39mself\u001b[39m, \u001b[39m*\u001b[39margs, \u001b[39m*\u001b[39m\u001b[39m*\u001b[39mkwargs):\n\u001b[1;32m    766\u001b[0m \u001b[39m    \u001b[39m\u001b[39m\"\"\" This method is invoked when endpoints are called\u001b[39;00m\n\u001b[1;32m    767\u001b[0m \u001b[39m    Example:\u001b[39;00m\n\u001b[1;32m    768\u001b[0m \n\u001b[0;32m   (...)\u001b[0m\n\u001b[1;32m    774\u001b[0m \n\u001b[1;32m    775\u001b[0m \u001b[39m    \"\"\"\u001b[39;00m\n\u001b[0;32m--> 776\u001b[0m     \u001b[39mreturn\u001b[39;00m \u001b[39mself\u001b[39;49m\u001b[39m.\u001b[39;49mcallable(\u001b[39mself\u001b[39;49m, \u001b[39m*\u001b[39;49margs, \u001b[39m*\u001b[39;49m\u001b[39m*\u001b[39;49mkwargs)\n",
      "File \u001b[0;32m~/.python/current/lib/python3.10/site-packages/pinecone/core/client/api/index_operations_api.py:1132\u001b[0m, in \u001b[0;36mIndexOperationsApi.__init__.<locals>.__list_indexes\u001b[0;34m(self, **kwargs)\u001b[0m\n\u001b[1;32m   1128\u001b[0m kwargs[\u001b[39m'\u001b[39m\u001b[39m_check_return_type\u001b[39m\u001b[39m'\u001b[39m] \u001b[39m=\u001b[39m kwargs\u001b[39m.\u001b[39mget(\n\u001b[1;32m   1129\u001b[0m     \u001b[39m'\u001b[39m\u001b[39m_check_return_type\u001b[39m\u001b[39m'\u001b[39m, \u001b[39mTrue\u001b[39;00m\n\u001b[1;32m   1130\u001b[0m )\n\u001b[1;32m   1131\u001b[0m kwargs[\u001b[39m'\u001b[39m\u001b[39m_host_index\u001b[39m\u001b[39m'\u001b[39m] \u001b[39m=\u001b[39m kwargs\u001b[39m.\u001b[39mget(\u001b[39m'\u001b[39m\u001b[39m_host_index\u001b[39m\u001b[39m'\u001b[39m)\n\u001b[0;32m-> 1132\u001b[0m \u001b[39mreturn\u001b[39;00m \u001b[39mself\u001b[39;49m\u001b[39m.\u001b[39;49mcall_with_http_info(\u001b[39m*\u001b[39;49m\u001b[39m*\u001b[39;49mkwargs)\n",
      "File \u001b[0;32m~/.python/current/lib/python3.10/site-packages/pinecone/core/client/api_client.py:838\u001b[0m, in \u001b[0;36mEndpoint.call_with_http_info\u001b[0;34m(self, **kwargs)\u001b[0m\n\u001b[1;32m    834\u001b[0m     header_list \u001b[39m=\u001b[39m \u001b[39mself\u001b[39m\u001b[39m.\u001b[39mapi_client\u001b[39m.\u001b[39mselect_header_content_type(\n\u001b[1;32m    835\u001b[0m         content_type_headers_list)\n\u001b[1;32m    836\u001b[0m     params[\u001b[39m'\u001b[39m\u001b[39mheader\u001b[39m\u001b[39m'\u001b[39m][\u001b[39m'\u001b[39m\u001b[39mContent-Type\u001b[39m\u001b[39m'\u001b[39m] \u001b[39m=\u001b[39m header_list\n\u001b[0;32m--> 838\u001b[0m \u001b[39mreturn\u001b[39;00m \u001b[39mself\u001b[39;49m\u001b[39m.\u001b[39;49mapi_client\u001b[39m.\u001b[39;49mcall_api(\n\u001b[1;32m    839\u001b[0m     \u001b[39mself\u001b[39;49m\u001b[39m.\u001b[39;49msettings[\u001b[39m'\u001b[39;49m\u001b[39mendpoint_path\u001b[39;49m\u001b[39m'\u001b[39;49m], \u001b[39mself\u001b[39;49m\u001b[39m.\u001b[39;49msettings[\u001b[39m'\u001b[39;49m\u001b[39mhttp_method\u001b[39;49m\u001b[39m'\u001b[39;49m],\n\u001b[1;32m    840\u001b[0m     params[\u001b[39m'\u001b[39;49m\u001b[39mpath\u001b[39;49m\u001b[39m'\u001b[39;49m],\n\u001b[1;32m    841\u001b[0m     params[\u001b[39m'\u001b[39;49m\u001b[39mquery\u001b[39;49m\u001b[39m'\u001b[39;49m],\n\u001b[1;32m    842\u001b[0m     params[\u001b[39m'\u001b[39;49m\u001b[39mheader\u001b[39;49m\u001b[39m'\u001b[39;49m],\n\u001b[1;32m    843\u001b[0m     body\u001b[39m=\u001b[39;49mparams[\u001b[39m'\u001b[39;49m\u001b[39mbody\u001b[39;49m\u001b[39m'\u001b[39;49m],\n\u001b[1;32m    844\u001b[0m     post_params\u001b[39m=\u001b[39;49mparams[\u001b[39m'\u001b[39;49m\u001b[39mform\u001b[39;49m\u001b[39m'\u001b[39;49m],\n\u001b[1;32m    845\u001b[0m     files\u001b[39m=\u001b[39;49mparams[\u001b[39m'\u001b[39;49m\u001b[39mfile\u001b[39;49m\u001b[39m'\u001b[39;49m],\n\u001b[1;32m    846\u001b[0m     response_type\u001b[39m=\u001b[39;49m\u001b[39mself\u001b[39;49m\u001b[39m.\u001b[39;49msettings[\u001b[39m'\u001b[39;49m\u001b[39mresponse_type\u001b[39;49m\u001b[39m'\u001b[39;49m],\n\u001b[1;32m    847\u001b[0m     auth_settings\u001b[39m=\u001b[39;49m\u001b[39mself\u001b[39;49m\u001b[39m.\u001b[39;49msettings[\u001b[39m'\u001b[39;49m\u001b[39mauth\u001b[39;49m\u001b[39m'\u001b[39;49m],\n\u001b[1;32m    848\u001b[0m     async_req\u001b[39m=\u001b[39;49mkwargs[\u001b[39m'\u001b[39;49m\u001b[39masync_req\u001b[39;49m\u001b[39m'\u001b[39;49m],\n\u001b[1;32m    849\u001b[0m     _check_type\u001b[39m=\u001b[39;49mkwargs[\u001b[39m'\u001b[39;49m\u001b[39m_check_return_type\u001b[39;49m\u001b[39m'\u001b[39;49m],\n\u001b[1;32m    850\u001b[0m     _return_http_data_only\u001b[39m=\u001b[39;49mkwargs[\u001b[39m'\u001b[39;49m\u001b[39m_return_http_data_only\u001b[39;49m\u001b[39m'\u001b[39;49m],\n\u001b[1;32m    851\u001b[0m     _preload_content\u001b[39m=\u001b[39;49mkwargs[\u001b[39m'\u001b[39;49m\u001b[39m_preload_content\u001b[39;49m\u001b[39m'\u001b[39;49m],\n\u001b[1;32m    852\u001b[0m     _request_timeout\u001b[39m=\u001b[39;49mkwargs[\u001b[39m'\u001b[39;49m\u001b[39m_request_timeout\u001b[39;49m\u001b[39m'\u001b[39;49m],\n\u001b[1;32m    853\u001b[0m     _host\u001b[39m=\u001b[39;49m_host,\n\u001b[1;32m    854\u001b[0m     collection_formats\u001b[39m=\u001b[39;49mparams[\u001b[39m'\u001b[39;49m\u001b[39mcollection_format\u001b[39;49m\u001b[39m'\u001b[39;49m])\n",
      "File \u001b[0;32m~/.python/current/lib/python3.10/site-packages/pinecone/core/client/api_client.py:413\u001b[0m, in \u001b[0;36mApiClient.call_api\u001b[0;34m(self, resource_path, method, path_params, query_params, header_params, body, post_params, files, response_type, auth_settings, async_req, _return_http_data_only, collection_formats, _preload_content, _request_timeout, _host, _check_type)\u001b[0m\n\u001b[1;32m    359\u001b[0m \u001b[39m\u001b[39m\u001b[39m\"\"\"Makes the HTTP request (synchronous) and returns deserialized data.\u001b[39;00m\n\u001b[1;32m    360\u001b[0m \n\u001b[1;32m    361\u001b[0m \u001b[39mTo make an async_req request, set the async_req parameter.\u001b[39;00m\n\u001b[0;32m   (...)\u001b[0m\n\u001b[1;32m    410\u001b[0m \u001b[39m    then the method will return the response directly.\u001b[39;00m\n\u001b[1;32m    411\u001b[0m \u001b[39m\"\"\"\u001b[39;00m\n\u001b[1;32m    412\u001b[0m \u001b[39mif\u001b[39;00m \u001b[39mnot\u001b[39;00m async_req:\n\u001b[0;32m--> 413\u001b[0m     \u001b[39mreturn\u001b[39;00m \u001b[39mself\u001b[39;49m\u001b[39m.\u001b[39;49m__call_api(resource_path, method,\n\u001b[1;32m    414\u001b[0m                            path_params, query_params, header_params,\n\u001b[1;32m    415\u001b[0m                            body, post_params, files,\n\u001b[1;32m    416\u001b[0m                            response_type, auth_settings,\n\u001b[1;32m    417\u001b[0m                            _return_http_data_only, collection_formats,\n\u001b[1;32m    418\u001b[0m                            _preload_content, _request_timeout, _host,\n\u001b[1;32m    419\u001b[0m                            _check_type)\n\u001b[1;32m    421\u001b[0m \u001b[39mreturn\u001b[39;00m \u001b[39mself\u001b[39m\u001b[39m.\u001b[39mpool\u001b[39m.\u001b[39mapply_async(\u001b[39mself\u001b[39m\u001b[39m.\u001b[39m__call_api, (resource_path,\n\u001b[1;32m    422\u001b[0m                                                method, path_params,\n\u001b[1;32m    423\u001b[0m                                                query_params,\n\u001b[0;32m   (...)\u001b[0m\n\u001b[1;32m    431\u001b[0m                                                _request_timeout,\n\u001b[1;32m    432\u001b[0m                                                _host, _check_type))\n",
      "File \u001b[0;32m~/.python/current/lib/python3.10/site-packages/pinecone/core/client/api_client.py:200\u001b[0m, in \u001b[0;36mApiClient.__call_api\u001b[0;34m(self, resource_path, method, path_params, query_params, header_params, body, post_params, files, response_type, auth_settings, _return_http_data_only, collection_formats, _preload_content, _request_timeout, _host, _check_type)\u001b[0m\n\u001b[1;32m    196\u001b[0m     url \u001b[39m=\u001b[39m _host \u001b[39m+\u001b[39m resource_path\n\u001b[1;32m    198\u001b[0m \u001b[39mtry\u001b[39;00m:\n\u001b[1;32m    199\u001b[0m     \u001b[39m# perform request and return response\u001b[39;00m\n\u001b[0;32m--> 200\u001b[0m     response_data \u001b[39m=\u001b[39m \u001b[39mself\u001b[39;49m\u001b[39m.\u001b[39;49mrequest(\n\u001b[1;32m    201\u001b[0m         method, url, query_params\u001b[39m=\u001b[39;49mquery_params, headers\u001b[39m=\u001b[39;49mheader_params,\n\u001b[1;32m    202\u001b[0m         post_params\u001b[39m=\u001b[39;49mpost_params, body\u001b[39m=\u001b[39;49mbody,\n\u001b[1;32m    203\u001b[0m         _preload_content\u001b[39m=\u001b[39;49m_preload_content,\n\u001b[1;32m    204\u001b[0m         _request_timeout\u001b[39m=\u001b[39;49m_request_timeout)\n\u001b[1;32m    205\u001b[0m \u001b[39mexcept\u001b[39;00m ApiException \u001b[39mas\u001b[39;00m e:\n\u001b[1;32m    206\u001b[0m     e\u001b[39m.\u001b[39mbody \u001b[39m=\u001b[39m e\u001b[39m.\u001b[39mbody\u001b[39m.\u001b[39mdecode(\u001b[39m'\u001b[39m\u001b[39mutf-8\u001b[39m\u001b[39m'\u001b[39m)\n",
      "File \u001b[0;32m~/.python/current/lib/python3.10/site-packages/pinecone/core/client/api_client.py:439\u001b[0m, in \u001b[0;36mApiClient.request\u001b[0;34m(self, method, url, query_params, headers, post_params, body, _preload_content, _request_timeout)\u001b[0m\n\u001b[1;32m    437\u001b[0m \u001b[39m\u001b[39m\u001b[39m\"\"\"Makes the HTTP request using RESTClient.\"\"\"\u001b[39;00m\n\u001b[1;32m    438\u001b[0m \u001b[39mif\u001b[39;00m method \u001b[39m==\u001b[39m \u001b[39m\"\u001b[39m\u001b[39mGET\u001b[39m\u001b[39m\"\u001b[39m:\n\u001b[0;32m--> 439\u001b[0m     \u001b[39mreturn\u001b[39;00m \u001b[39mself\u001b[39;49m\u001b[39m.\u001b[39;49mrest_client\u001b[39m.\u001b[39;49mGET(url,\n\u001b[1;32m    440\u001b[0m                                 query_params\u001b[39m=\u001b[39;49mquery_params,\n\u001b[1;32m    441\u001b[0m                                 _preload_content\u001b[39m=\u001b[39;49m_preload_content,\n\u001b[1;32m    442\u001b[0m                                 _request_timeout\u001b[39m=\u001b[39;49m_request_timeout,\n\u001b[1;32m    443\u001b[0m                                 headers\u001b[39m=\u001b[39;49mheaders)\n\u001b[1;32m    444\u001b[0m \u001b[39melif\u001b[39;00m method \u001b[39m==\u001b[39m \u001b[39m\"\u001b[39m\u001b[39mHEAD\u001b[39m\u001b[39m\"\u001b[39m:\n\u001b[1;32m    445\u001b[0m     \u001b[39mreturn\u001b[39;00m \u001b[39mself\u001b[39m\u001b[39m.\u001b[39mrest_client\u001b[39m.\u001b[39mHEAD(url,\n\u001b[1;32m    446\u001b[0m                                  query_params\u001b[39m=\u001b[39mquery_params,\n\u001b[1;32m    447\u001b[0m                                  _preload_content\u001b[39m=\u001b[39m_preload_content,\n\u001b[1;32m    448\u001b[0m                                  _request_timeout\u001b[39m=\u001b[39m_request_timeout,\n\u001b[1;32m    449\u001b[0m                                  headers\u001b[39m=\u001b[39mheaders)\n",
      "File \u001b[0;32m~/.python/current/lib/python3.10/site-packages/pinecone/core/client/rest.py:236\u001b[0m, in \u001b[0;36mRESTClientObject.GET\u001b[0;34m(self, url, headers, query_params, _preload_content, _request_timeout)\u001b[0m\n\u001b[1;32m    234\u001b[0m \u001b[39mdef\u001b[39;00m \u001b[39mGET\u001b[39m(\u001b[39mself\u001b[39m, url, headers\u001b[39m=\u001b[39m\u001b[39mNone\u001b[39;00m, query_params\u001b[39m=\u001b[39m\u001b[39mNone\u001b[39;00m, _preload_content\u001b[39m=\u001b[39m\u001b[39mTrue\u001b[39;00m,\n\u001b[1;32m    235\u001b[0m         _request_timeout\u001b[39m=\u001b[39m\u001b[39mNone\u001b[39;00m):\n\u001b[0;32m--> 236\u001b[0m     \u001b[39mreturn\u001b[39;00m \u001b[39mself\u001b[39;49m\u001b[39m.\u001b[39;49mrequest(\u001b[39m\"\u001b[39;49m\u001b[39mGET\u001b[39;49m\u001b[39m\"\u001b[39;49m, url,\n\u001b[1;32m    237\u001b[0m                         headers\u001b[39m=\u001b[39;49mheaders,\n\u001b[1;32m    238\u001b[0m                         _preload_content\u001b[39m=\u001b[39;49m_preload_content,\n\u001b[1;32m    239\u001b[0m                         _request_timeout\u001b[39m=\u001b[39;49m_request_timeout,\n\u001b[1;32m    240\u001b[0m                         query_params\u001b[39m=\u001b[39;49mquery_params)\n",
      "File \u001b[0;32m~/.python/current/lib/python3.10/site-packages/pinecone/core/client/rest.py:202\u001b[0m, in \u001b[0;36mRESTClientObject.request\u001b[0;34m(self, method, url, query_params, headers, body, post_params, _preload_content, _request_timeout)\u001b[0m\n\u001b[1;32m    199\u001b[0m             \u001b[39mraise\u001b[39;00m ApiException(status\u001b[39m=\u001b[39m\u001b[39m0\u001b[39m, reason\u001b[39m=\u001b[39mmsg)\n\u001b[1;32m    200\u001b[0m     \u001b[39m# For `GET`, `HEAD`\u001b[39;00m\n\u001b[1;32m    201\u001b[0m     \u001b[39melse\u001b[39;00m:\n\u001b[0;32m--> 202\u001b[0m         r \u001b[39m=\u001b[39m \u001b[39mself\u001b[39;49m\u001b[39m.\u001b[39;49mpool_manager\u001b[39m.\u001b[39;49mrequest(method, url,\n\u001b[1;32m    203\u001b[0m                                       fields\u001b[39m=\u001b[39;49mquery_params,\n\u001b[1;32m    204\u001b[0m                                       preload_content\u001b[39m=\u001b[39;49m_preload_content,\n\u001b[1;32m    205\u001b[0m                                       timeout\u001b[39m=\u001b[39;49mtimeout,\n\u001b[1;32m    206\u001b[0m                                       headers\u001b[39m=\u001b[39;49mheaders)\n\u001b[1;32m    207\u001b[0m \u001b[39mexcept\u001b[39;00m urllib3\u001b[39m.\u001b[39mexceptions\u001b[39m.\u001b[39mSSLError \u001b[39mas\u001b[39;00m e:\n\u001b[1;32m    208\u001b[0m     msg \u001b[39m=\u001b[39m \u001b[39m\"\u001b[39m\u001b[39m{0}\u001b[39;00m\u001b[39m\\n\u001b[39;00m\u001b[39m{1}\u001b[39;00m\u001b[39m\"\u001b[39m\u001b[39m.\u001b[39mformat(\u001b[39mtype\u001b[39m(e)\u001b[39m.\u001b[39m\u001b[39m__name__\u001b[39m, \u001b[39mstr\u001b[39m(e))\n",
      "File \u001b[0;32m~/.local/lib/python3.10/site-packages/urllib3/request.py:74\u001b[0m, in \u001b[0;36mRequestMethods.request\u001b[0;34m(self, method, url, fields, headers, **urlopen_kw)\u001b[0m\n\u001b[1;32m     71\u001b[0m urlopen_kw[\u001b[39m\"\u001b[39m\u001b[39mrequest_url\u001b[39m\u001b[39m\"\u001b[39m] \u001b[39m=\u001b[39m url\n\u001b[1;32m     73\u001b[0m \u001b[39mif\u001b[39;00m method \u001b[39min\u001b[39;00m \u001b[39mself\u001b[39m\u001b[39m.\u001b[39m_encode_url_methods:\n\u001b[0;32m---> 74\u001b[0m     \u001b[39mreturn\u001b[39;00m \u001b[39mself\u001b[39;49m\u001b[39m.\u001b[39;49mrequest_encode_url(\n\u001b[1;32m     75\u001b[0m         method, url, fields\u001b[39m=\u001b[39;49mfields, headers\u001b[39m=\u001b[39;49mheaders, \u001b[39m*\u001b[39;49m\u001b[39m*\u001b[39;49murlopen_kw\n\u001b[1;32m     76\u001b[0m     )\n\u001b[1;32m     77\u001b[0m \u001b[39melse\u001b[39;00m:\n\u001b[1;32m     78\u001b[0m     \u001b[39mreturn\u001b[39;00m \u001b[39mself\u001b[39m\u001b[39m.\u001b[39mrequest_encode_body(\n\u001b[1;32m     79\u001b[0m         method, url, fields\u001b[39m=\u001b[39mfields, headers\u001b[39m=\u001b[39mheaders, \u001b[39m*\u001b[39m\u001b[39m*\u001b[39murlopen_kw\n\u001b[1;32m     80\u001b[0m     )\n",
      "File \u001b[0;32m~/.local/lib/python3.10/site-packages/urllib3/request.py:96\u001b[0m, in \u001b[0;36mRequestMethods.request_encode_url\u001b[0;34m(self, method, url, fields, headers, **urlopen_kw)\u001b[0m\n\u001b[1;32m     93\u001b[0m \u001b[39mif\u001b[39;00m fields:\n\u001b[1;32m     94\u001b[0m     url \u001b[39m+\u001b[39m\u001b[39m=\u001b[39m \u001b[39m\"\u001b[39m\u001b[39m?\u001b[39m\u001b[39m\"\u001b[39m \u001b[39m+\u001b[39m urlencode(fields)\n\u001b[0;32m---> 96\u001b[0m \u001b[39mreturn\u001b[39;00m \u001b[39mself\u001b[39;49m\u001b[39m.\u001b[39;49murlopen(method, url, \u001b[39m*\u001b[39;49m\u001b[39m*\u001b[39;49mextra_kw)\n",
      "File \u001b[0;32m~/.local/lib/python3.10/site-packages/urllib3/poolmanager.py:376\u001b[0m, in \u001b[0;36mPoolManager.urlopen\u001b[0;34m(self, method, url, redirect, **kw)\u001b[0m\n\u001b[1;32m    374\u001b[0m     response \u001b[39m=\u001b[39m conn\u001b[39m.\u001b[39murlopen(method, url, \u001b[39m*\u001b[39m\u001b[39m*\u001b[39mkw)\n\u001b[1;32m    375\u001b[0m \u001b[39melse\u001b[39;00m:\n\u001b[0;32m--> 376\u001b[0m     response \u001b[39m=\u001b[39m conn\u001b[39m.\u001b[39;49murlopen(method, u\u001b[39m.\u001b[39;49mrequest_uri, \u001b[39m*\u001b[39;49m\u001b[39m*\u001b[39;49mkw)\n\u001b[1;32m    378\u001b[0m redirect_location \u001b[39m=\u001b[39m redirect \u001b[39mand\u001b[39;00m response\u001b[39m.\u001b[39mget_redirect_location()\n\u001b[1;32m    379\u001b[0m \u001b[39mif\u001b[39;00m \u001b[39mnot\u001b[39;00m redirect_location:\n",
      "File \u001b[0;32m~/.local/lib/python3.10/site-packages/urllib3/connectionpool.py:815\u001b[0m, in \u001b[0;36mHTTPConnectionPool.urlopen\u001b[0;34m(self, method, url, body, headers, retries, redirect, assert_same_host, timeout, pool_timeout, release_conn, chunked, body_pos, **response_kw)\u001b[0m\n\u001b[1;32m    810\u001b[0m \u001b[39mif\u001b[39;00m \u001b[39mnot\u001b[39;00m conn:\n\u001b[1;32m    811\u001b[0m     \u001b[39m# Try again\u001b[39;00m\n\u001b[1;32m    812\u001b[0m     log\u001b[39m.\u001b[39mwarning(\n\u001b[1;32m    813\u001b[0m         \u001b[39m\"\u001b[39m\u001b[39mRetrying (\u001b[39m\u001b[39m%r\u001b[39;00m\u001b[39m) after connection broken by \u001b[39m\u001b[39m'\u001b[39m\u001b[39m%r\u001b[39;00m\u001b[39m'\u001b[39m\u001b[39m: \u001b[39m\u001b[39m%s\u001b[39;00m\u001b[39m\"\u001b[39m, retries, err, url\n\u001b[1;32m    814\u001b[0m     )\n\u001b[0;32m--> 815\u001b[0m     \u001b[39mreturn\u001b[39;00m \u001b[39mself\u001b[39;49m\u001b[39m.\u001b[39;49murlopen(\n\u001b[1;32m    816\u001b[0m         method,\n\u001b[1;32m    817\u001b[0m         url,\n\u001b[1;32m    818\u001b[0m         body,\n\u001b[1;32m    819\u001b[0m         headers,\n\u001b[1;32m    820\u001b[0m         retries,\n\u001b[1;32m    821\u001b[0m         redirect,\n\u001b[1;32m    822\u001b[0m         assert_same_host,\n\u001b[1;32m    823\u001b[0m         timeout\u001b[39m=\u001b[39;49mtimeout,\n\u001b[1;32m    824\u001b[0m         pool_timeout\u001b[39m=\u001b[39;49mpool_timeout,\n\u001b[1;32m    825\u001b[0m         release_conn\u001b[39m=\u001b[39;49mrelease_conn,\n\u001b[1;32m    826\u001b[0m         chunked\u001b[39m=\u001b[39;49mchunked,\n\u001b[1;32m    827\u001b[0m         body_pos\u001b[39m=\u001b[39;49mbody_pos,\n\u001b[1;32m    828\u001b[0m         \u001b[39m*\u001b[39;49m\u001b[39m*\u001b[39;49mresponse_kw\n\u001b[1;32m    829\u001b[0m     )\n\u001b[1;32m    831\u001b[0m \u001b[39m# Handle redirect?\u001b[39;00m\n\u001b[1;32m    832\u001b[0m redirect_location \u001b[39m=\u001b[39m redirect \u001b[39mand\u001b[39;00m response\u001b[39m.\u001b[39mget_redirect_location()\n",
      "File \u001b[0;32m~/.local/lib/python3.10/site-packages/urllib3/connectionpool.py:815\u001b[0m, in \u001b[0;36mHTTPConnectionPool.urlopen\u001b[0;34m(self, method, url, body, headers, retries, redirect, assert_same_host, timeout, pool_timeout, release_conn, chunked, body_pos, **response_kw)\u001b[0m\n\u001b[1;32m    810\u001b[0m \u001b[39mif\u001b[39;00m \u001b[39mnot\u001b[39;00m conn:\n\u001b[1;32m    811\u001b[0m     \u001b[39m# Try again\u001b[39;00m\n\u001b[1;32m    812\u001b[0m     log\u001b[39m.\u001b[39mwarning(\n\u001b[1;32m    813\u001b[0m         \u001b[39m\"\u001b[39m\u001b[39mRetrying (\u001b[39m\u001b[39m%r\u001b[39;00m\u001b[39m) after connection broken by \u001b[39m\u001b[39m'\u001b[39m\u001b[39m%r\u001b[39;00m\u001b[39m'\u001b[39m\u001b[39m: \u001b[39m\u001b[39m%s\u001b[39;00m\u001b[39m\"\u001b[39m, retries, err, url\n\u001b[1;32m    814\u001b[0m     )\n\u001b[0;32m--> 815\u001b[0m     \u001b[39mreturn\u001b[39;00m \u001b[39mself\u001b[39;49m\u001b[39m.\u001b[39;49murlopen(\n\u001b[1;32m    816\u001b[0m         method,\n\u001b[1;32m    817\u001b[0m         url,\n\u001b[1;32m    818\u001b[0m         body,\n\u001b[1;32m    819\u001b[0m         headers,\n\u001b[1;32m    820\u001b[0m         retries,\n\u001b[1;32m    821\u001b[0m         redirect,\n\u001b[1;32m    822\u001b[0m         assert_same_host,\n\u001b[1;32m    823\u001b[0m         timeout\u001b[39m=\u001b[39;49mtimeout,\n\u001b[1;32m    824\u001b[0m         pool_timeout\u001b[39m=\u001b[39;49mpool_timeout,\n\u001b[1;32m    825\u001b[0m         release_conn\u001b[39m=\u001b[39;49mrelease_conn,\n\u001b[1;32m    826\u001b[0m         chunked\u001b[39m=\u001b[39;49mchunked,\n\u001b[1;32m    827\u001b[0m         body_pos\u001b[39m=\u001b[39;49mbody_pos,\n\u001b[1;32m    828\u001b[0m         \u001b[39m*\u001b[39;49m\u001b[39m*\u001b[39;49mresponse_kw\n\u001b[1;32m    829\u001b[0m     )\n\u001b[1;32m    831\u001b[0m \u001b[39m# Handle redirect?\u001b[39;00m\n\u001b[1;32m    832\u001b[0m redirect_location \u001b[39m=\u001b[39m redirect \u001b[39mand\u001b[39;00m response\u001b[39m.\u001b[39mget_redirect_location()\n",
      "File \u001b[0;32m~/.local/lib/python3.10/site-packages/urllib3/connectionpool.py:815\u001b[0m, in \u001b[0;36mHTTPConnectionPool.urlopen\u001b[0;34m(self, method, url, body, headers, retries, redirect, assert_same_host, timeout, pool_timeout, release_conn, chunked, body_pos, **response_kw)\u001b[0m\n\u001b[1;32m    810\u001b[0m \u001b[39mif\u001b[39;00m \u001b[39mnot\u001b[39;00m conn:\n\u001b[1;32m    811\u001b[0m     \u001b[39m# Try again\u001b[39;00m\n\u001b[1;32m    812\u001b[0m     log\u001b[39m.\u001b[39mwarning(\n\u001b[1;32m    813\u001b[0m         \u001b[39m\"\u001b[39m\u001b[39mRetrying (\u001b[39m\u001b[39m%r\u001b[39;00m\u001b[39m) after connection broken by \u001b[39m\u001b[39m'\u001b[39m\u001b[39m%r\u001b[39;00m\u001b[39m'\u001b[39m\u001b[39m: \u001b[39m\u001b[39m%s\u001b[39;00m\u001b[39m\"\u001b[39m, retries, err, url\n\u001b[1;32m    814\u001b[0m     )\n\u001b[0;32m--> 815\u001b[0m     \u001b[39mreturn\u001b[39;00m \u001b[39mself\u001b[39;49m\u001b[39m.\u001b[39;49murlopen(\n\u001b[1;32m    816\u001b[0m         method,\n\u001b[1;32m    817\u001b[0m         url,\n\u001b[1;32m    818\u001b[0m         body,\n\u001b[1;32m    819\u001b[0m         headers,\n\u001b[1;32m    820\u001b[0m         retries,\n\u001b[1;32m    821\u001b[0m         redirect,\n\u001b[1;32m    822\u001b[0m         assert_same_host,\n\u001b[1;32m    823\u001b[0m         timeout\u001b[39m=\u001b[39;49mtimeout,\n\u001b[1;32m    824\u001b[0m         pool_timeout\u001b[39m=\u001b[39;49mpool_timeout,\n\u001b[1;32m    825\u001b[0m         release_conn\u001b[39m=\u001b[39;49mrelease_conn,\n\u001b[1;32m    826\u001b[0m         chunked\u001b[39m=\u001b[39;49mchunked,\n\u001b[1;32m    827\u001b[0m         body_pos\u001b[39m=\u001b[39;49mbody_pos,\n\u001b[1;32m    828\u001b[0m         \u001b[39m*\u001b[39;49m\u001b[39m*\u001b[39;49mresponse_kw\n\u001b[1;32m    829\u001b[0m     )\n\u001b[1;32m    831\u001b[0m \u001b[39m# Handle redirect?\u001b[39;00m\n\u001b[1;32m    832\u001b[0m redirect_location \u001b[39m=\u001b[39m redirect \u001b[39mand\u001b[39;00m response\u001b[39m.\u001b[39mget_redirect_location()\n",
      "File \u001b[0;32m~/.local/lib/python3.10/site-packages/urllib3/connectionpool.py:787\u001b[0m, in \u001b[0;36mHTTPConnectionPool.urlopen\u001b[0;34m(self, method, url, body, headers, retries, redirect, assert_same_host, timeout, pool_timeout, release_conn, chunked, body_pos, **response_kw)\u001b[0m\n\u001b[1;32m    784\u001b[0m \u001b[39melif\u001b[39;00m \u001b[39misinstance\u001b[39m(e, (SocketError, HTTPException)):\n\u001b[1;32m    785\u001b[0m     e \u001b[39m=\u001b[39m ProtocolError(\u001b[39m\"\u001b[39m\u001b[39mConnection aborted.\u001b[39m\u001b[39m\"\u001b[39m, e)\n\u001b[0;32m--> 787\u001b[0m retries \u001b[39m=\u001b[39m retries\u001b[39m.\u001b[39;49mincrement(\n\u001b[1;32m    788\u001b[0m     method, url, error\u001b[39m=\u001b[39;49me, _pool\u001b[39m=\u001b[39;49m\u001b[39mself\u001b[39;49m, _stacktrace\u001b[39m=\u001b[39;49msys\u001b[39m.\u001b[39;49mexc_info()[\u001b[39m2\u001b[39;49m]\n\u001b[1;32m    789\u001b[0m )\n\u001b[1;32m    790\u001b[0m retries\u001b[39m.\u001b[39msleep()\n\u001b[1;32m    792\u001b[0m \u001b[39m# Keep track of the error for the retry warning.\u001b[39;00m\n",
      "File \u001b[0;32m~/.local/lib/python3.10/site-packages/urllib3/util/retry.py:592\u001b[0m, in \u001b[0;36mRetry.increment\u001b[0;34m(self, method, url, response, error, _pool, _stacktrace)\u001b[0m\n\u001b[1;32m    581\u001b[0m new_retry \u001b[39m=\u001b[39m \u001b[39mself\u001b[39m\u001b[39m.\u001b[39mnew(\n\u001b[1;32m    582\u001b[0m     total\u001b[39m=\u001b[39mtotal,\n\u001b[1;32m    583\u001b[0m     connect\u001b[39m=\u001b[39mconnect,\n\u001b[0;32m   (...)\u001b[0m\n\u001b[1;32m    588\u001b[0m     history\u001b[39m=\u001b[39mhistory,\n\u001b[1;32m    589\u001b[0m )\n\u001b[1;32m    591\u001b[0m \u001b[39mif\u001b[39;00m new_retry\u001b[39m.\u001b[39mis_exhausted():\n\u001b[0;32m--> 592\u001b[0m     \u001b[39mraise\u001b[39;00m MaxRetryError(_pool, url, error \u001b[39mor\u001b[39;00m ResponseError(cause))\n\u001b[1;32m    594\u001b[0m log\u001b[39m.\u001b[39mdebug(\u001b[39m\"\u001b[39m\u001b[39mIncremented Retry for (url=\u001b[39m\u001b[39m'\u001b[39m\u001b[39m%s\u001b[39;00m\u001b[39m'\u001b[39m\u001b[39m): \u001b[39m\u001b[39m%r\u001b[39;00m\u001b[39m\"\u001b[39m, url, new_retry)\n\u001b[1;32m    596\u001b[0m \u001b[39mreturn\u001b[39;00m new_retry\n",
      "\u001b[0;31mMaxRetryError\u001b[0m: HTTPSConnectionPool(host='controller.wangshiqi.pinecone.io', port=443): Max retries exceeded with url: /databases (Caused by NewConnectionError('<urllib3.connection.HTTPSConnection object at 0x7f150d73ffd0>: Failed to establish a new connection: [Errno -2] Name or service not known'))"
     ]
    }
   ],
   "source": [
    "print(\"出错?\",pinecone)\n",
    "# check if index already exists (it shouldn't if this is first time)\n",
    "if index_name not in pinecone.list_indexes():\n",
    "    # if does not exist, create index\n",
    "    pinecone.create_index(\n",
    "        index_name,\n",
    "        dimension=len(res['data'][0]['embedding']),\n",
    "        metric='dotproduct'\n",
    "    )\n",
    "# connect to index\n",
    "index = pinecone.GRPCIndex(index_name)\n",
    "# view index stats\n",
    "index.describe_index_stats()"
   ]
  }
 ],
 "metadata": {
  "kernelspec": {
   "display_name": "Python 3",
   "language": "python",
   "name": "python3"
  },
  "language_info": {
   "codemirror_mode": {
    "name": "ipython",
    "version": 3
   },
   "file_extension": ".py",
   "mimetype": "text/x-python",
   "name": "python",
   "nbconvert_exporter": "python",
   "pygments_lexer": "ipython3",
   "version": "3.10.4"
  },
  "orig_nbformat": 4
 },
 "nbformat": 4,
 "nbformat_minor": 2
}
