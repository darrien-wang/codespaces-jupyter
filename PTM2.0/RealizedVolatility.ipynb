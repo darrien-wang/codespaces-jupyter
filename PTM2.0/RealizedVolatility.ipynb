{
 "cells": [
  {
   "cell_type": "code",
   "execution_count": 10,
   "metadata": {},
   "outputs": [
    {
     "ename": "KeyError",
     "evalue": "'bids'",
     "output_type": "error",
     "traceback": [
      "\u001b[0;31m---------------------------------------------------------------------------\u001b[0m",
      "\u001b[0;31mKeyError\u001b[0m                                  Traceback (most recent call last)",
      "Cell \u001b[0;32mIn[10], line 10\u001b[0m\n\u001b[1;32m      7\u001b[0m \u001b[39m# 解析API响应并提取所需信息\u001b[39;00m\n\u001b[1;32m      8\u001b[0m data \u001b[39m=\u001b[39m response\u001b[39m.\u001b[39mjson()\n\u001b[0;32m---> 10\u001b[0m bids \u001b[39m=\u001b[39m data[\u001b[39m'\u001b[39;49m\u001b[39mbids\u001b[39;49m\u001b[39m'\u001b[39;49m][\u001b[39m0\u001b[39m]  \u001b[39m# 最高买价和买量\u001b[39;00m\n\u001b[1;32m     11\u001b[0m asks \u001b[39m=\u001b[39m data[\u001b[39m'\u001b[39m\u001b[39masks\u001b[39m\u001b[39m'\u001b[39m][\u001b[39m0\u001b[39m]  \u001b[39m# 最低卖价和卖量\u001b[39;00m\n\u001b[1;32m     13\u001b[0m \u001b[39mprint\u001b[39m(\u001b[39m\"\u001b[39m\u001b[39m最高买价: \u001b[39m\u001b[39m\"\u001b[39m, bids[\u001b[39m0\u001b[39m])\n",
      "\u001b[0;31mKeyError\u001b[0m: 'bids'"
     ]
    }
   ],
   "source": [
    "import requests\n",
    "\n",
    "# 调用Binance API获取比特币/美元交易对的市场深度\n",
    "url = \"https://api.binance.com/api/v3/depth?symbol=BTCUSDT&limit=0\"\n",
    "response = requests.get(url)\n",
    "\n",
    "# 解析API响应并提取所需信息\n",
    "data = response.json()\n",
    "\n",
    "bids = data['bids'][0]  # 最高买价和买量\n",
    "asks = data['asks'][0]  # 最低卖价和卖量\n",
    "\n",
    "print(\"最高买价: \", bids[0])\n",
    "print(\"最高买量: \", bids[1])\n",
    "print(\"最低卖价: \", asks[0])\n",
    "print(\"最低卖量: \", asks[1])\n"
   ]
  },
  {
   "cell_type": "code",
   "execution_count": null,
   "metadata": {},
   "outputs": [],
   "source": []
  },
  {
   "cell_type": "code",
   "execution_count": null,
   "metadata": {},
   "outputs": [],
   "source": []
  },
  {
   "cell_type": "code",
   "execution_count": null,
   "metadata": {},
   "outputs": [],
   "source": []
  },
  {
   "cell_type": "code",
   "execution_count": 4,
   "metadata": {},
   "outputs": [
    {
     "ename": "ZeroDivisionError",
     "evalue": "division by zero",
     "output_type": "error",
     "traceback": [
      "\u001b[0;31m---------------------------------------------------------------------------\u001b[0m",
      "\u001b[0;31mZeroDivisionError\u001b[0m                         Traceback (most recent call last)",
      "Cell \u001b[0;32mIn[4], line 41\u001b[0m\n\u001b[1;32m     38\u001b[0m             total_trades \u001b[39m+\u001b[39m\u001b[39m=\u001b[39m \u001b[39m1\u001b[39m\n\u001b[1;32m     39\u001b[0m             winning_trades \u001b[39m+\u001b[39m\u001b[39m=\u001b[39m \u001b[39m1\u001b[39m\n\u001b[0;32m---> 41\u001b[0m win_rate \u001b[39m=\u001b[39m winning_trades \u001b[39m/\u001b[39;49m total_trades\n\u001b[1;32m     42\u001b[0m \u001b[39mprint\u001b[39m(\u001b[39mf\u001b[39m\u001b[39m\"\u001b[39m\u001b[39mWinning trades: \u001b[39m\u001b[39m{\u001b[39;00mwinning_trades\u001b[39m}\u001b[39;00m\u001b[39m\"\u001b[39m)\n\u001b[1;32m     43\u001b[0m \u001b[39mprint\u001b[39m(\u001b[39mf\u001b[39m\u001b[39m\"\u001b[39m\u001b[39mTotal trades: \u001b[39m\u001b[39m{\u001b[39;00mtotal_trades\u001b[39m}\u001b[39;00m\u001b[39m\"\u001b[39m)\n",
      "\u001b[0;31mZeroDivisionError\u001b[0m: division by zero"
     ]
    }
   ],
   "source": [
    "import ccxt\n",
    "import pandas as pd\n",
    "import numpy as np\n",
    "\n",
    "def moving_average(data, window):\n",
    "    return np.convolve(data, np.ones(window), 'valid') / window\n",
    "\n",
    "symbol = 'BTC/USDT'\n",
    "timeframe = '1h'\n",
    "stop_loss_rate = 1\n",
    "take_profit_rate = 0.2\n",
    "\n",
    "binance = ccxt.binance()\n",
    "ohlcv = binance.fetch_ohlcv(symbol, timeframe)\n",
    "ohlcv_df = pd.DataFrame(ohlcv, columns=['timestamp', 'open', 'high', 'low', 'close', 'volume'])\n",
    "\n",
    "ohlcv_df['ma5'] = ohlcv_df['close'].rolling(window=5).mean()\n",
    "ohlcv_df['ma8'] = ohlcv_df['close'].rolling(window=8).mean()\n",
    "ohlcv_df['ma13'] = ohlcv_df['close'].rolling(window=13).mean()\n",
    "\n",
    "in_position = False\n",
    "buy_price = 0\n",
    "winning_trades = 0\n",
    "total_trades = 0\n",
    "\n",
    "for index, row in ohlcv_df.iterrows():\n",
    "    if not in_position and row['ma5'] > row['ma8'] and row['ma5'] > row['ma13']:\n",
    "        in_position = True\n",
    "        buy_price = row['close']\n",
    "    elif in_position:\n",
    "        stop_loss = buy_price * (1 - stop_loss_rate)\n",
    "        take_profit = buy_price * (1 + take_profit_rate)\n",
    "        if row['low'] <= stop_loss:\n",
    "            in_position = False\n",
    "            total_trades += 1\n",
    "        elif row['high'] >= take_profit:\n",
    "            in_position = False\n",
    "            total_trades += 1\n",
    "            winning_trades += 1\n",
    "\n",
    "win_rate = winning_trades / total_trades\n",
    "print(f\"Winning trades: {winning_trades}\")\n",
    "print(f\"Total trades: {total_trades}\")\n",
    "print(f\"Win rate: {win_rate * 100:.2f}%\")\n"
   ]
  }
 ],
 "metadata": {
  "kernelspec": {
   "display_name": "Python 3",
   "language": "python",
   "name": "python3"
  },
  "language_info": {
   "codemirror_mode": {
    "name": "ipython",
    "version": 3
   },
   "file_extension": ".py",
   "mimetype": "text/x-python",
   "name": "python",
   "nbconvert_exporter": "python",
   "pygments_lexer": "ipython3",
   "version": "3.10.4"
  },
  "orig_nbformat": 4
 },
 "nbformat": 4,
 "nbformat_minor": 2
}
